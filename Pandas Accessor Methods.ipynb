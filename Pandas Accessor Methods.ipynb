{
 "cells": [
  {
   "cell_type": "markdown",
   "id": "1dde07f4",
   "metadata": {},
   "source": [
    "# This is a beginner talk about using Pandas datatypes more effectively"
   ]
  },
  {
   "cell_type": "markdown",
   "id": "f279d6d7",
   "metadata": {},
   "source": [
    "(I'm cheating about pre-running these cells before the presentation, I reserve the right to re-run cells later)"
   ]
  },
  {
   "cell_type": "markdown",
   "id": "3fee4719",
   "metadata": {},
   "source": [
    "### What is pandas = spreadsheets without as many limitations as one is used to"
   ]
  },
  {
   "cell_type": "markdown",
   "id": "d82bbea6",
   "metadata": {},
   "source": [
    "### These features are called DataFrames() and Series()"
   ]
  },
  {
   "cell_type": "code",
   "execution_count": 1,
   "id": "4cfdca3c",
   "metadata": {},
   "outputs": [],
   "source": [
    "import pandas as pd\n",
    "from matplotlib import pyplot as plt\n",
    "import numpy as np\n",
    "pd.options.display.max_rows = 15\n",
    "#changing the column headings to title case to set up for the demo's below\n",
    "parking_meters = pd.read_csv('treas_parking_meters_loc_datasd.csv')\n",
    "# connection_info = sqlalchemy.engine(\"postgres://mydb/table\", user = \"\", password = \"\")\n",
    "# data = pd.read_sql('select * from ...', connection_info)\n",
    "parking_meters.columns = parking_meters.columns.str.lower()\n",
    "parking_meters.to_csv('treas_parking_meters_loc_datasd.csv', index=False)"
   ]
  },
  {
   "cell_type": "markdown",
   "id": "8a635ab6",
   "metadata": {},
   "source": [
    "## Take a look at where pandas sits in the python datascience heirarchy."
   ]
  },
  {
   "cell_type": "code",
   "execution_count": 2,
   "id": "0c791317",
   "metadata": {},
   "outputs": [
    {
     "data": {
      "text/html": [
       "<img src=\"Python-datasci.jpg\" width=\"600\" height=\"600\"/>"
      ],
      "text/plain": [
       "<IPython.core.display.Image object>"
      ]
     },
     "execution_count": 2,
     "metadata": {},
     "output_type": "execute_result"
    }
   ],
   "source": [
    "from IPython.display import Image\n",
    "from IPython.core.display import HTML\n",
    "Image(url=\"Python-datasci.jpg\", width=600, height=600)"
   ]
  },
  {
   "cell_type": "markdown",
   "id": "0d9410d4",
   "metadata": {},
   "source": [
    "## The data we will be using is from the data.SanDiego.gov site."
   ]
  },
  {
   "cell_type": "code",
   "execution_count": 3,
   "id": "5294916b",
   "metadata": {},
   "outputs": [],
   "source": [
    "#mea culpa: I changed the heading to be title case before I started this so I could have some way to manipulate the columns\n",
    "parking_meters = pd.read_csv('treas_parking_meters_loc_datasd.csv')"
   ]
  },
  {
   "cell_type": "code",
   "execution_count": 4,
   "id": "76d0bb98",
   "metadata": {},
   "outputs": [
    {
     "data": {
      "text/html": [
       "<div>\n",
       "<style scoped>\n",
       "    .dataframe tbody tr th:only-of-type {\n",
       "        vertical-align: middle;\n",
       "    }\n",
       "\n",
       "    .dataframe tbody tr th {\n",
       "        vertical-align: top;\n",
       "    }\n",
       "\n",
       "    .dataframe thead th {\n",
       "        text-align: right;\n",
       "    }\n",
       "</style>\n",
       "<table border=\"1\" class=\"dataframe\">\n",
       "  <thead>\n",
       "    <tr style=\"text-align: right;\">\n",
       "      <th></th>\n",
       "      <th>zone</th>\n",
       "      <th>area</th>\n",
       "      <th>sub_area</th>\n",
       "      <th>pole</th>\n",
       "      <th>config_code</th>\n",
       "      <th>config_name</th>\n",
       "      <th>longitude</th>\n",
       "      <th>latitude</th>\n",
       "    </tr>\n",
       "  </thead>\n",
       "  <tbody>\n",
       "    <tr>\n",
       "      <th>0</th>\n",
       "      <td>City</td>\n",
       "      <td>Barrio Logan</td>\n",
       "      <td>2900 ADDISON ST</td>\n",
       "      <td>ADN-2912</td>\n",
       "      <td>9116</td>\n",
       "      <td>30 Min Max $1.25 HR 8am-6pm Mon-Sat</td>\n",
       "      <td>-117.230904</td>\n",
       "      <td>32.721670</td>\n",
       "    </tr>\n",
       "    <tr>\n",
       "      <th>1</th>\n",
       "      <td>City</td>\n",
       "      <td>Barrio Logan</td>\n",
       "      <td>2900 ADDISON ST</td>\n",
       "      <td>ADN-2914</td>\n",
       "      <td>9116</td>\n",
       "      <td>30 Min Max $1.25 HR 8am-6pm Mon-Sat</td>\n",
       "      <td>-117.230913</td>\n",
       "      <td>32.721575</td>\n",
       "    </tr>\n",
       "    <tr>\n",
       "      <th>2</th>\n",
       "      <td>City</td>\n",
       "      <td>Barrio Logan</td>\n",
       "      <td>1000 CESAR CHAVEZ WAY</td>\n",
       "      <td>CC-1003</td>\n",
       "      <td>9000</td>\n",
       "      <td>2 Hour Max $1.25 HR 8am-6pm Mon-Sat</td>\n",
       "      <td>-117.145178</td>\n",
       "      <td>32.700353</td>\n",
       "    </tr>\n",
       "    <tr>\n",
       "      <th>3</th>\n",
       "      <td>City</td>\n",
       "      <td>Barrio Logan</td>\n",
       "      <td>1000 CESAR CHAVEZ WAY</td>\n",
       "      <td>CC-1005</td>\n",
       "      <td>9000</td>\n",
       "      <td>2 Hour Max $1.25 HR 8am-6pm Mon-Sat</td>\n",
       "      <td>-117.145178</td>\n",
       "      <td>32.700352</td>\n",
       "    </tr>\n",
       "    <tr>\n",
       "      <th>4</th>\n",
       "      <td>City</td>\n",
       "      <td>Barrio Logan</td>\n",
       "      <td>1000 CESAR CHAVEZ WAY</td>\n",
       "      <td>CC-1011</td>\n",
       "      <td>9000</td>\n",
       "      <td>2 Hour Max $1.25 HR 8am-6pm Mon-Sat</td>\n",
       "      <td>-117.145349</td>\n",
       "      <td>32.700155</td>\n",
       "    </tr>\n",
       "  </tbody>\n",
       "</table>\n",
       "</div>"
      ],
      "text/plain": [
       "   zone          area               sub_area      pole  config_code  \\\n",
       "0  City  Barrio Logan        2900 ADDISON ST  ADN-2912         9116   \n",
       "1  City  Barrio Logan        2900 ADDISON ST  ADN-2914         9116   \n",
       "2  City  Barrio Logan  1000 CESAR CHAVEZ WAY   CC-1003         9000   \n",
       "3  City  Barrio Logan  1000 CESAR CHAVEZ WAY   CC-1005         9000   \n",
       "4  City  Barrio Logan  1000 CESAR CHAVEZ WAY   CC-1011         9000   \n",
       "\n",
       "                           config_name   longitude   latitude  \n",
       "0  30 Min Max $1.25 HR 8am-6pm Mon-Sat -117.230904  32.721670  \n",
       "1  30 Min Max $1.25 HR 8am-6pm Mon-Sat -117.230913  32.721575  \n",
       "2  2 Hour Max $1.25 HR 8am-6pm Mon-Sat -117.145178  32.700353  \n",
       "3  2 Hour Max $1.25 HR 8am-6pm Mon-Sat -117.145178  32.700352  \n",
       "4  2 Hour Max $1.25 HR 8am-6pm Mon-Sat -117.145349  32.700155  "
      ]
     },
     "execution_count": 4,
     "metadata": {},
     "output_type": "execute_result"
    }
   ],
   "source": [
    "parking_meters.head()"
   ]
  },
  {
   "cell_type": "markdown",
   "id": "050535d7",
   "metadata": {},
   "source": [
    "## here is how Pandas sees the types of data it collected (see the dtype column)"
   ]
  },
  {
   "cell_type": "code",
   "execution_count": 5,
   "id": "7a851810",
   "metadata": {},
   "outputs": [
    {
     "name": "stdout",
     "output_type": "stream",
     "text": [
      "<class 'pandas.core.frame.DataFrame'>\n",
      "RangeIndex: 4653 entries, 0 to 4652\n",
      "Data columns (total 8 columns):\n",
      " #   Column       Non-Null Count  Dtype  \n",
      "---  ------       --------------  -----  \n",
      " 0   zone         4653 non-null   object \n",
      " 1   area         4653 non-null   object \n",
      " 2   sub_area     4653 non-null   object \n",
      " 3   pole         4653 non-null   object \n",
      " 4   config_code  4653 non-null   int64  \n",
      " 5   config_name  4653 non-null   object \n",
      " 6   longitude    4653 non-null   float64\n",
      " 7   latitude     4653 non-null   float64\n",
      "dtypes: float64(2), int64(1), object(5)\n",
      "memory usage: 290.9+ KB\n"
     ]
    }
   ],
   "source": [
    "parking_meters.info()"
   ]
  },
  {
   "cell_type": "markdown",
   "id": "f956d37e",
   "metadata": {},
   "source": [
    "## this is too much data for one column"
   ]
  },
  {
   "cell_type": "code",
   "execution_count": 6,
   "id": "ee54ece1",
   "metadata": {},
   "outputs": [
    {
     "data": {
      "text/plain": [
       "0       30 Min Max $1.25 HR 8am-6pm Mon-Sat\n",
       "1       30 Min Max $1.25 HR 8am-6pm Mon-Sat\n",
       "2       2 Hour Max $1.25 HR 8am-6pm Mon-Sat\n",
       "3       2 Hour Max $1.25 HR 8am-6pm Mon-Sat\n",
       "4       2 Hour Max $1.25 HR 8am-6pm Mon-Sat\n",
       "                       ...                 \n",
       "4648    2 Hour Max $1.25 HR 8am-6pm Mon-Sat\n",
       "4649    2 Hour Max $1.25 HR 8am-6pm Mon-Sat\n",
       "4650    2 Hour Max $1.25 HR 8am-6pm Mon-Sat\n",
       "4651    2 Hour Max $1.25 HR 8am-6pm Mon-Sat\n",
       "4652    2 Hour Max $1.25 HR 8am-6pm Mon-Sat\n",
       "Name: config_name, Length: 4653, dtype: object"
      ]
     },
     "execution_count": 6,
     "metadata": {},
     "output_type": "execute_result"
    }
   ],
   "source": [
    "parking_meters.config_name"
   ]
  },
  {
   "cell_type": "markdown",
   "id": "4686176b",
   "metadata": {},
   "source": [
    "### Don't ask me how they are going to split $1.25 evenly over the half an hour"
   ]
  },
  {
   "cell_type": "code",
   "execution_count": null,
   "id": "be51adc3",
   "metadata": {},
   "outputs": [],
   "source": []
  },
  {
   "cell_type": "markdown",
   "id": "858d3395",
   "metadata": {},
   "source": [
    "# attached methods\n"
   ]
  },
  {
   "cell_type": "markdown",
   "id": "a22b0d94",
   "metadata": {},
   "source": [
    "### This is .str and it can be run without changing any types (usually) they generally come in as strings."
   ]
  },
  {
   "cell_type": "code",
   "execution_count": null,
   "id": "b13f5bff",
   "metadata": {},
   "outputs": [],
   "source": [
    "#uncomment the next line to play around with tab complete at the end of .str.\n",
    "#parking_meters.config_name.str."
   ]
  },
  {
   "cell_type": "code",
   "execution_count": 18,
   "id": "e9e0c9e2",
   "metadata": {},
   "outputs": [
    {
     "data": {
      "text/plain": [
       "0       30 MIN MAX $1.25 HR 8AM-6PM MON-SAT\n",
       "1       30 MIN MAX $1.25 HR 8AM-6PM MON-SAT\n",
       "2       2 HOUR MAX $1.25 HR 8AM-6PM MON-SAT\n",
       "3       2 HOUR MAX $1.25 HR 8AM-6PM MON-SAT\n",
       "4       2 HOUR MAX $1.25 HR 8AM-6PM MON-SAT\n",
       "                       ...                 \n",
       "4648    2 HOUR MAX $1.25 HR 8AM-6PM MON-SAT\n",
       "4649    2 HOUR MAX $1.25 HR 8AM-6PM MON-SAT\n",
       "4650    2 HOUR MAX $1.25 HR 8AM-6PM MON-SAT\n",
       "4651    2 HOUR MAX $1.25 HR 8AM-6PM MON-SAT\n",
       "4652    2 HOUR MAX $1.25 HR 8AM-6PM MON-SAT\n",
       "Name: config_name, Length: 4653, dtype: object"
      ]
     },
     "execution_count": 18,
     "metadata": {},
     "output_type": "execute_result"
    }
   ],
   "source": [
    "# examples on what you can do\n",
    "parking_meters.config_name.str.upper()  # uppercase"
   ]
  },
  {
   "cell_type": "code",
   "execution_count": 26,
   "id": "e70495da",
   "metadata": {},
   "outputs": [
    {
     "data": {
      "text/plain": [
       "0       True\n",
       "1       True\n",
       "2       True\n",
       "3       True\n",
       "4       True\n",
       "        ... \n",
       "4648    True\n",
       "4649    True\n",
       "4650    True\n",
       "4651    True\n",
       "4652    True\n",
       "Name: config_name, Length: 4653, dtype: bool"
      ]
     },
     "execution_count": 26,
     "metadata": {},
     "output_type": "execute_result"
    }
   ],
   "source": [
    "parking_meters.config_name.str.endswith(\"Sat\") # query the info"
   ]
  },
  {
   "cell_type": "code",
   "execution_count": 32,
   "id": "6373b52c",
   "metadata": {},
   "outputs": [
    {
     "data": {
      "text/plain": [
       "0       20\n",
       "1       20\n",
       "2       20\n",
       "3       20\n",
       "4       20\n",
       "        ..\n",
       "4648    20\n",
       "4649    20\n",
       "4650    20\n",
       "4651    20\n",
       "4652    20\n",
       "Name: config_name, Length: 4653, dtype: int64"
      ]
     },
     "execution_count": 32,
     "metadata": {},
     "output_type": "execute_result"
    }
   ],
   "source": [
    "parking_meters.config_name.str.find('8am') # pass in a regex, get the index"
   ]
  },
  {
   "cell_type": "code",
   "execution_count": 36,
   "id": "35c9d7ed",
   "metadata": {},
   "outputs": [
    {
     "data": {
      "text/plain": [
       "0       [30, Min, Max, $1.25, HR, 8am-6pm, Mon-Sat]\n",
       "1       [30, Min, Max, $1.25, HR, 8am-6pm, Mon-Sat]\n",
       "2       [2, Hour, Max, $1.25, HR, 8am-6pm, Mon-Sat]\n",
       "3       [2, Hour, Max, $1.25, HR, 8am-6pm, Mon-Sat]\n",
       "4       [2, Hour, Max, $1.25, HR, 8am-6pm, Mon-Sat]\n",
       "                           ...                     \n",
       "4648    [2, Hour, Max, $1.25, HR, 8am-6pm, Mon-Sat]\n",
       "4649    [2, Hour, Max, $1.25, HR, 8am-6pm, Mon-Sat]\n",
       "4650    [2, Hour, Max, $1.25, HR, 8am-6pm, Mon-Sat]\n",
       "4651    [2, Hour, Max, $1.25, HR, 8am-6pm, Mon-Sat]\n",
       "4652    [2, Hour, Max, $1.25, HR, 8am-6pm, Mon-Sat]\n",
       "Name: config_name, Length: 4653, dtype: object"
      ]
     },
     "execution_count": 36,
     "metadata": {},
     "output_type": "execute_result"
    }
   ],
   "source": [
    "parking_meters.config_name.str.split()\n"
   ]
  },
  {
   "cell_type": "code",
   "execution_count": null,
   "id": "4eb92346",
   "metadata": {},
   "outputs": [],
   "source": []
  },
  {
   "cell_type": "markdown",
   "id": "69d0581d",
   "metadata": {},
   "source": [
    "## How do we deal with this data now that it's not a string?"
   ]
  },
  {
   "cell_type": "markdown",
   "id": "0abbce0a",
   "metadata": {},
   "source": [
    "### The str accessor method still works because it really works with iterables.  it just has all the string methods associated with it.  There is no list accessor method."
   ]
  },
  {
   "cell_type": "code",
   "execution_count": 38,
   "id": "3043d996",
   "metadata": {},
   "outputs": [
    {
     "data": {
      "text/plain": [
       "0       30 Min Max\n",
       "1       30 Min Max\n",
       "2       2 Hour Max\n",
       "3       2 Hour Max\n",
       "4       2 Hour Max\n",
       "           ...    \n",
       "4648    2 Hour Max\n",
       "4649    2 Hour Max\n",
       "4650    2 Hour Max\n",
       "4651    2 Hour Max\n",
       "4652    2 Hour Max\n",
       "Name: max_time_label, Length: 4653, dtype: object"
      ]
     },
     "execution_count": 38,
     "metadata": {},
     "output_type": "execute_result"
    }
   ],
   "source": [
    "parking_meters['max_time_label'] = parking_meters.config_name.str.split().str[0:3].str.join(sep=\" \")\n",
    "parking_meters.max_time_label"
   ]
  },
  {
   "cell_type": "code",
   "execution_count": 39,
   "id": "b5d4c8d7",
   "metadata": {},
   "outputs": [
    {
     "data": {
      "text/plain": [
       "Index(['zone', 'area', 'sub_area', 'pole', 'config_code', 'config_name',\n",
       "       'longitude', 'latitude', 'max_time_label', 'max_time_limit'],\n",
       "      dtype='object')"
      ]
     },
     "execution_count": 39,
     "metadata": {},
     "output_type": "execute_result"
    }
   ],
   "source": [
    "# that made a new column in our dataset called parking_meters.max_time_label\n",
    "parking_meters.columns"
   ]
  },
  {
   "cell_type": "code",
   "execution_count": null,
   "id": "f077596a",
   "metadata": {},
   "outputs": [],
   "source": []
  },
  {
   "cell_type": "code",
   "execution_count": null,
   "id": "0a4fcf7f",
   "metadata": {},
   "outputs": [],
   "source": []
  },
  {
   "cell_type": "markdown",
   "id": "1e7c4436",
   "metadata": {},
   "source": [
    "# Next we will load a new dataset for new types of problems"
   ]
  },
  {
   "cell_type": "markdown",
   "id": "25a1c74e",
   "metadata": {},
   "source": [
    "##  The rest of these accessor methods below we will need to change the type of the column to fit the datatype we want.\n"
   ]
  },
  {
   "cell_type": "code",
   "execution_count": 41,
   "id": "ae39bb4f",
   "metadata": {},
   "outputs": [],
   "source": [
    "pothole_repair = pd.read_csv('pothole_requests_datasd_v1.csv')\n",
    "# pothole_repair = pd.read_csv(\"https://seshat.datasd.org/get_it_done_311/pothole_requests_datasd_v1.csv\")"
   ]
  },
  {
   "cell_type": "code",
   "execution_count": 42,
   "id": "cd8275d0",
   "metadata": {},
   "outputs": [
    {
     "data": {
      "text/html": [
       "<div>\n",
       "<style scoped>\n",
       "    .dataframe tbody tr th:only-of-type {\n",
       "        vertical-align: middle;\n",
       "    }\n",
       "\n",
       "    .dataframe tbody tr th {\n",
       "        vertical-align: top;\n",
       "    }\n",
       "\n",
       "    .dataframe thead th {\n",
       "        text-align: right;\n",
       "    }\n",
       "</style>\n",
       "<table border=\"1\" class=\"dataframe\">\n",
       "  <thead>\n",
       "    <tr style=\"text-align: right;\">\n",
       "      <th></th>\n",
       "      <th>service_request_id</th>\n",
       "      <th>service_request_parent_id</th>\n",
       "      <th>sap_notification_number</th>\n",
       "      <th>date_requested</th>\n",
       "      <th>case_age_days</th>\n",
       "      <th>case_record_type</th>\n",
       "      <th>service_name</th>\n",
       "      <th>service_name_detail</th>\n",
       "      <th>date_closed</th>\n",
       "      <th>status</th>\n",
       "      <th>...</th>\n",
       "      <th>council_district</th>\n",
       "      <th>comm_plan_code</th>\n",
       "      <th>comm_plan_name</th>\n",
       "      <th>park_name</th>\n",
       "      <th>case_origin</th>\n",
       "      <th>referred</th>\n",
       "      <th>public_description</th>\n",
       "      <th>iamfloc</th>\n",
       "      <th>floc</th>\n",
       "      <th>public_url</th>\n",
       "    </tr>\n",
       "  </thead>\n",
       "  <tbody>\n",
       "    <tr>\n",
       "      <th>0</th>\n",
       "      <td>80508</td>\n",
       "      <td>52352.0</td>\n",
       "      <td>NaN</td>\n",
       "      <td>2016-05-20T08:55:00</td>\n",
       "      <td>0.0</td>\n",
       "      <td>TSW</td>\n",
       "      <td>Pothole</td>\n",
       "      <td>STREET - Streets and Alleys Pothole</td>\n",
       "      <td>2016-05-20T00:00:00</td>\n",
       "      <td>Closed</td>\n",
       "      <td>...</td>\n",
       "      <td>2.0</td>\n",
       "      <td>6.0</td>\n",
       "      <td>Clairemont Mesa</td>\n",
       "      <td>NaN</td>\n",
       "      <td>Phone</td>\n",
       "      <td>NaN</td>\n",
       "      <td>test only, please dont create a notification</td>\n",
       "      <td>NaN</td>\n",
       "      <td>NaN</td>\n",
       "      <td>https://getitdone.force.com//TSWViewReportDeta...</td>\n",
       "    </tr>\n",
       "    <tr>\n",
       "      <th>1</th>\n",
       "      <td>80510</td>\n",
       "      <td>NaN</td>\n",
       "      <td>NaN</td>\n",
       "      <td>2016-05-20T09:05:00</td>\n",
       "      <td>0.0</td>\n",
       "      <td>TSW</td>\n",
       "      <td>Pothole</td>\n",
       "      <td>STREET - Streets and Alleys Pothole</td>\n",
       "      <td>2016-05-20T00:00:00</td>\n",
       "      <td>Closed</td>\n",
       "      <td>...</td>\n",
       "      <td>3.0</td>\n",
       "      <td>4.0</td>\n",
       "      <td>Downtown</td>\n",
       "      <td>NaN</td>\n",
       "      <td>Web</td>\n",
       "      <td>NaN</td>\n",
       "      <td>Test Only - Please close</td>\n",
       "      <td>NaN</td>\n",
       "      <td>SS-000222</td>\n",
       "      <td>https://getitdone.force.com//TSWViewReportDeta...</td>\n",
       "    </tr>\n",
       "  </tbody>\n",
       "</table>\n",
       "<p>2 rows × 24 columns</p>\n",
       "</div>"
      ],
      "text/plain": [
       "   service_request_id  service_request_parent_id  sap_notification_number  \\\n",
       "0               80508                    52352.0                      NaN   \n",
       "1               80510                        NaN                      NaN   \n",
       "\n",
       "        date_requested  case_age_days case_record_type service_name  \\\n",
       "0  2016-05-20T08:55:00            0.0              TSW      Pothole   \n",
       "1  2016-05-20T09:05:00            0.0              TSW      Pothole   \n",
       "\n",
       "                   service_name_detail          date_closed  status  ...  \\\n",
       "0  STREET - Streets and Alleys Pothole  2016-05-20T00:00:00  Closed  ...   \n",
       "1  STREET - Streets and Alleys Pothole  2016-05-20T00:00:00  Closed  ...   \n",
       "\n",
       "   council_district  comm_plan_code   comm_plan_name  park_name  case_origin  \\\n",
       "0               2.0             6.0  Clairemont Mesa        NaN        Phone   \n",
       "1               3.0             4.0         Downtown        NaN          Web   \n",
       "\n",
       "   referred                            public_description iamfloc       floc  \\\n",
       "0       NaN  test only, please dont create a notification     NaN        NaN   \n",
       "1       NaN                      Test Only - Please close     NaN  SS-000222   \n",
       "\n",
       "                                          public_url  \n",
       "0  https://getitdone.force.com//TSWViewReportDeta...  \n",
       "1  https://getitdone.force.com//TSWViewReportDeta...  \n",
       "\n",
       "[2 rows x 24 columns]"
      ]
     },
     "execution_count": 42,
     "metadata": {},
     "output_type": "execute_result"
    }
   ],
   "source": [
    "pothole_repair.head(2)"
   ]
  },
  {
   "cell_type": "markdown",
   "id": "00f99e8b",
   "metadata": {},
   "source": [
    "# I'm going to need to change date_requested, case_origin, and sap_notification_number in this next line to different types to fit the accessor methods I'm looking to show (and save space, starting off at the bottom it says it's 15.5 MB)"
   ]
  },
  {
   "cell_type": "code",
   "execution_count": 45,
   "id": "4a86ff25",
   "metadata": {},
   "outputs": [
    {
     "name": "stdout",
     "output_type": "stream",
     "text": [
      "<class 'pandas.core.frame.DataFrame'>\n",
      "RangeIndex: 84791 entries, 0 to 84790\n",
      "Data columns (total 24 columns):\n",
      " #   Column                     Non-Null Count  Dtype  \n",
      "---  ------                     --------------  -----  \n",
      " 0   service_request_id         84791 non-null  int64  \n",
      " 1   service_request_parent_id  28711 non-null  float64\n",
      " 2   sap_notification_number    53154 non-null  float64\n",
      " 3   date_requested             84791 non-null  object \n",
      " 4   case_age_days              83463 non-null  float64\n",
      " 5   case_record_type           84791 non-null  object \n",
      " 6   service_name               84791 non-null  object \n",
      " 7   service_name_detail        84785 non-null  object \n",
      " 8   date_closed                82181 non-null  object \n",
      " 9   status                     84791 non-null  object \n",
      " 10  lat                        84755 non-null  float64\n",
      " 11  lng                        84755 non-null  float64\n",
      " 12  street_address             84693 non-null  object \n",
      " 13  zipcode                    59368 non-null  float64\n",
      " 14  council_district           84543 non-null  float64\n",
      " 15  comm_plan_code             84533 non-null  float64\n",
      " 16  comm_plan_name             84533 non-null  object \n",
      " 17  park_name                  965 non-null    object \n",
      " 18  case_origin                84791 non-null  object \n",
      " 19  referred                   2494 non-null   object \n",
      " 20  public_description         76899 non-null  object \n",
      " 21  iamfloc                    53388 non-null  object \n",
      " 22  floc                       83560 non-null  object \n",
      " 23  public_url                 84791 non-null  object \n",
      "dtypes: float64(8), int64(1), object(15)\n",
      "memory usage: 15.5+ MB\n"
     ]
    }
   ],
   "source": [
    "## what type of datatypes did it bring in?\n",
    "pothole_repair.info()"
   ]
  },
  {
   "cell_type": "markdown",
   "id": "04c26acb",
   "metadata": {},
   "source": [
    "# change date_requested to a datetime"
   ]
  },
  {
   "cell_type": "code",
   "execution_count": 52,
   "id": "a203d40c",
   "metadata": {},
   "outputs": [],
   "source": [
    "pothole_repair.date_requested = pd.to_datetime(pothole_repair.date_requested)"
   ]
  },
  {
   "cell_type": "code",
   "execution_count": 49,
   "id": "b069d5ef",
   "metadata": {},
   "outputs": [
    {
     "name": "stdout",
     "output_type": "stream",
     "text": [
      "<class 'pandas.core.series.Series'>\n",
      "RangeIndex: 84791 entries, 0 to 84790\n",
      "Series name: date_requested\n",
      "Non-Null Count  Dtype         \n",
      "--------------  -----         \n",
      "84791 non-null  datetime64[ns]\n",
      "dtypes: datetime64[ns](1)\n",
      "memory usage: 662.6 KB\n"
     ]
    }
   ],
   "source": [
    "pothole_repair.date_requested.info()  # look for datetime64[ns]"
   ]
  },
  {
   "cell_type": "code",
   "execution_count": 50,
   "id": "81eb91aa",
   "metadata": {},
   "outputs": [],
   "source": [
    "# feel free to uncomment the next line and see what list comes up with tab completion.\n",
    "# pothole_repair.date_requested.dt."
   ]
  },
  {
   "cell_type": "code",
   "execution_count": 53,
   "id": "335b94db",
   "metadata": {},
   "outputs": [
    {
     "data": {
      "text/plain": [
       "<AxesSubplot:>"
      ]
     },
     "execution_count": 53,
     "metadata": {},
     "output_type": "execute_result"
    },
    {
     "data": {
      "image/png": "[encoded data removed]",
      "text/plain": [
       "<Figure size 432x288 with 1 Axes>"
      ]
     },
     "metadata": {
      "needs_background": "light"
     },
     "output_type": "display_data"
    }
   ],
   "source": [
    "# What day_of_week do potholes get reported?\n",
    "\n",
    "pothole_repair.date_requested.dt.day_of_week.value_counts().plot.bar()"
   ]
  },
  {
   "cell_type": "code",
   "execution_count": 56,
   "id": "2b194faf",
   "metadata": {},
   "outputs": [
    {
     "data": {
      "text/plain": [
       "<AxesSubplot:>"
      ]
     },
     "execution_count": 56,
     "metadata": {},
     "output_type": "execute_result"
    },
    {
     "data": {
      "image/png": "[encoded data removed]",
      "text/plain": [
       "<Figure size 432x288 with 1 Axes>"
      ]
     },
     "metadata": {
      "needs_background": "light"
     },
     "output_type": "display_data"
    }
   ],
   "source": [
    "# what hour of the day do people report potholes?\n",
    "\n",
    "pothole_repair.date_requested.dt.hour.value_counts().sort_index().plot.bar()"
   ]
  },
  {
   "cell_type": "code",
   "execution_count": null,
   "id": "8f1b3019",
   "metadata": {},
   "outputs": [],
   "source": []
  },
  {
   "cell_type": "code",
   "execution_count": null,
   "id": "63354764",
   "metadata": {},
   "outputs": [],
   "source": []
  },
  {
   "cell_type": "code",
   "execution_count": null,
   "id": "68b0aec3",
   "metadata": {},
   "outputs": [],
   "source": [
    "# Lets look at categoricals\n",
    "# This you can think of like an enumerated type instead of just string values"
   ]
  },
  {
   "cell_type": "code",
   "execution_count": 57,
   "id": "0a79ead2",
   "metadata": {},
   "outputs": [
    {
     "data": {
      "text/plain": [
       "0    Phone\n",
       "1      Web\n",
       "2    Phone\n",
       "3    Phone\n",
       "4      Web\n",
       "Name: case_origin, dtype: object"
      ]
     },
     "execution_count": 57,
     "metadata": {},
     "output_type": "execute_result"
    }
   ],
   "source": [
    "pothole_repair.case_origin.head()"
   ]
  },
  {
   "cell_type": "code",
   "execution_count": 58,
   "id": "58223412",
   "metadata": {},
   "outputs": [
    {
     "name": "stdout",
     "output_type": "stream",
     "text": [
      "<class 'pandas.core.series.Series'>\n",
      "RangeIndex: 84791 entries, 0 to 84790\n",
      "Series name: case_origin\n",
      "Non-Null Count  Dtype \n",
      "--------------  ----- \n",
      "84791 non-null  object\n",
      "dtypes: object(1)\n",
      "memory usage: 662.6+ KB\n"
     ]
    }
   ],
   "source": [
    "pothole_repair.case_origin.info()"
   ]
  },
  {
   "cell_type": "markdown",
   "id": "1d836ba9",
   "metadata": {},
   "source": [
    "## here's where we change a column to categorical"
   ]
  },
  {
   "cell_type": "code",
   "execution_count": 70,
   "id": "bbc2edbd",
   "metadata": {},
   "outputs": [],
   "source": [
    "pothole_repair.case_origin =  pothole_repair.case_origin.astype(\"category\")"
   ]
  },
  {
   "cell_type": "code",
   "execution_count": 71,
   "id": "13a48694",
   "metadata": {},
   "outputs": [
    {
     "name": "stdout",
     "output_type": "stream",
     "text": [
      "<class 'pandas.core.series.Series'>\n",
      "RangeIndex: 84791 entries, 0 to 84790\n",
      "Series name: case_origin\n",
      "Non-Null Count  Dtype   \n",
      "--------------  -----   \n",
      "84791 non-null  category\n",
      "dtypes: category(1)\n",
      "memory usage: 83.3 KB\n"
     ]
    }
   ],
   "source": [
    "pothole_repair.case_origin.info()  #significant reduction of memory on this column 662.6KB->83.3KB"
   ]
  },
  {
   "cell_type": "code",
   "execution_count": null,
   "id": "a2f7823a",
   "metadata": {},
   "outputs": [],
   "source": []
  },
  {
   "cell_type": "code",
   "execution_count": 61,
   "id": "6f758f5a",
   "metadata": {},
   "outputs": [
    {
     "data": {
      "text/plain": [
       "0        5\n",
       "1        9\n",
       "2        5\n",
       "3        5\n",
       "4        9\n",
       "        ..\n",
       "84786    9\n",
       "84787    5\n",
       "84788    9\n",
       "84789    4\n",
       "84790    4\n",
       "Length: 84791, dtype: int8"
      ]
     },
     "execution_count": 61,
     "metadata": {},
     "output_type": "execute_result"
    }
   ],
   "source": [
    "pothole_repair.case_origin.cat.codes  # what is actually in the column"
   ]
  },
  {
   "cell_type": "code",
   "execution_count": 62,
   "id": "4f84a71e",
   "metadata": {},
   "outputs": [
    {
     "data": {
      "text/plain": [
       "Index(['Crew/Self Generated', 'Email', 'Garage Run', 'Letter', 'Mobile',\n",
       "       'Phone', 'Route Slip', 'Station 38 Incident Reports', 'Walk-In', 'Web'],\n",
       "      dtype='object')"
      ]
     },
     "execution_count": 62,
     "metadata": {},
     "output_type": "execute_result"
    }
   ],
   "source": [
    "pothole_repair.case_origin.cat.categories  # these names are now kept in a separate dictionary"
   ]
  },
  {
   "cell_type": "code",
   "execution_count": null,
   "id": "c57b075a",
   "metadata": {},
   "outputs": [],
   "source": []
  },
  {
   "cell_type": "markdown",
   "id": "19f12a06",
   "metadata": {},
   "source": [
    "## Lets take a look at sparse columns.  "
   ]
  },
  {
   "cell_type": "markdown",
   "id": "51665a74",
   "metadata": {},
   "source": [
    "### for sparse columns I would usually have more missing data."
   ]
  },
  {
   "cell_type": "code",
   "execution_count": 76,
   "id": "64019e00",
   "metadata": {},
   "outputs": [
    {
     "data": {
      "text/plain": [
       "84791"
      ]
     },
     "execution_count": 76,
     "metadata": {},
     "output_type": "execute_result"
    }
   ],
   "source": [
    "len(pothole_repair)"
   ]
  },
  {
   "cell_type": "code",
   "execution_count": 74,
   "id": "c8c33e93",
   "metadata": {},
   "outputs": [
    {
     "data": {
      "text/plain": [
       "31637"
      ]
     },
     "execution_count": 74,
     "metadata": {},
     "output_type": "execute_result"
    }
   ],
   "source": [
    "sum(pothole_repair.sap_notification_number.isna())"
   ]
  },
  {
   "cell_type": "code",
   "execution_count": 75,
   "id": "f8a63c83",
   "metadata": {},
   "outputs": [
    {
     "name": "stdout",
     "output_type": "stream",
     "text": [
      "<class 'pandas.core.series.Series'>\n",
      "RangeIndex: 84791 entries, 0 to 84790\n",
      "Series name: sap_notification_number\n",
      "Non-Null Count  Dtype  \n",
      "--------------  -----  \n",
      "53154 non-null  float64\n",
      "dtypes: float64(1)\n",
      "memory usage: 662.6 KB\n"
     ]
    }
   ],
   "source": [
    "pothole_repair.sap_notification_number.info()"
   ]
  },
  {
   "cell_type": "code",
   "execution_count": 77,
   "id": "fd709f68",
   "metadata": {},
   "outputs": [],
   "source": [
    "pothole_repair.sap_notification_number = pothole_repair.sap_notification_number.astype(pd.SparseDtype(\"float\", np.nan))"
   ]
  },
  {
   "cell_type": "code",
   "execution_count": 78,
   "id": "1786d0d4",
   "metadata": {},
   "outputs": [
    {
     "name": "stdout",
     "output_type": "stream",
     "text": [
      "<class 'pandas.core.series.Series'>\n",
      "RangeIndex: 84791 entries, 0 to 84790\n",
      "Series name: sap_notification_number\n",
      "Non-Null Count  Dtype               \n",
      "--------------  -----               \n",
      "53154 non-null  Sparse[float64, nan]\n",
      "dtypes: Sparse[float64, nan](1)\n",
      "memory usage: 623.0 KB\n"
     ]
    }
   ],
   "source": [
    "pothole_repair.sap_notification_number.info()  # a little savings on memory but not much."
   ]
  },
  {
   "cell_type": "code",
   "execution_count": 79,
   "id": "4442c1f8",
   "metadata": {},
   "outputs": [
    {
     "data": {
      "text/plain": [
       "0.6268825700840891"
      ]
     },
     "execution_count": 79,
     "metadata": {},
     "output_type": "execute_result"
    }
   ],
   "source": [
    "pothole_repair.sap_notification_number.sparse.density  # 62.68% full"
   ]
  },
  {
   "cell_type": "code",
   "execution_count": 80,
   "id": "b17216f2",
   "metadata": {},
   "outputs": [
    {
     "data": {
      "text/plain": [
       "53154"
      ]
     },
     "execution_count": 80,
     "metadata": {},
     "output_type": "execute_result"
    }
   ],
   "source": [
    "pothole_repair.sap_notification_number.sparse.npoints"
   ]
  },
  {
   "cell_type": "code",
   "execution_count": 81,
   "id": "03085b9e",
   "metadata": {},
   "outputs": [
    {
     "data": {
      "text/plain": [
       "array([1.50000744e+11, 1.50000744e+11, 1.50000744e+11, ...,\n",
       "       4.03004582e+10, 4.03004585e+10, 4.03004584e+10])"
      ]
     },
     "execution_count": 81,
     "metadata": {},
     "output_type": "execute_result"
    }
   ],
   "source": [
    "pothole_repair.sap_notification_number.sparse.sp_values"
   ]
  },
  {
   "cell_type": "code",
   "execution_count": null,
   "id": "132068e9",
   "metadata": {},
   "outputs": [],
   "source": []
  },
  {
   "cell_type": "markdown",
   "id": "fe6472be",
   "metadata": {},
   "source": [
    "# remember:\n",
    "\n",
    "For most of these (except str) first convert the column to that type\n",
    "then you can use these.\n",
    "\n",
    "Then you have these groups of functionality specific to that datatype\n"
   ]
  },
  {
   "cell_type": "markdown",
   "id": "584acd0e",
   "metadata": {},
   "source": [
    "# avoid using .apply()  (it's slow comparitively speaking)\n",
    "# Avoid using \"for\" loops in Pandas.  You might find Pandas's type specific code that will work much faster because it knows the datatype it's working with.   These are tools that will help you on your quest."
   ]
  },
  {
   "cell_type": "code",
   "execution_count": null,
   "id": "e377380c",
   "metadata": {},
   "outputs": [],
   "source": []
  },
  {
   "cell_type": "code",
   "execution_count": null,
   "id": "27e496e1",
   "metadata": {},
   "outputs": [],
   "source": []
  }
 ],
 "metadata": {
  "kernelspec": {
   "display_name": "Python 3 (ipykernel)",
   "language": "python",
   "name": "python3"
  },
  "language_info": {
   "codemirror_mode": {
    "name": "ipython",
    "version": 3
   },
   "file_extension": ".py",
   "mimetype": "text/x-python",
   "name": "python",
   "nbconvert_exporter": "python",
   "pygments_lexer": "ipython3",
   "version": "3.10.2"
  }
 },
 "nbformat": 4,
 "nbformat_minor": 5
}
