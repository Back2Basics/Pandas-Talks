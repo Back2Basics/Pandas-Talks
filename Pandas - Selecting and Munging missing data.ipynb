{
 "cells": [
  {
   "cell_type": "markdown",
   "metadata": {
    "slideshow": {
     "slide_type": "slide"
    }
   },
   "source": [
    "## Last time we found how to import data, reviewed the mentality of using DataFrames, what are DataFrames limitations, and why you would use it over others (SQL, Excel).  This time we are going over fixing broken data with Pandas."
   ]
  },
  {
   "cell_type": "code",
   "execution_count": 1,
   "metadata": {
    "collapsed": true,
    "slideshow": {
     "slide_type": "fragment"
    }
   },
   "outputs": [],
   "source": [
    "import pandas as pd\n",
    "pd.set_option('max_rows',15)\n",
    "#changing the column headings to title case to set up for the demo's below\n",
    "parking_meters = pd.read_csv('treas_parking_meters_loc_datasd.csv')\n",
    "parking_meters.columns = parking_meters.columns.str.title()\n",
    "parking_meters.to_csv('treas_parking_meters_loc_datasd.csv', index=False)"
   ]
  },
  {
   "cell_type": "markdown",
   "metadata": {
    "slideshow": {
     "slide_type": "subslide"
    }
   },
   "source": [
    "## We are still in the Mid-level of the Python Data Stack."
   ]
  },
  {
   "cell_type": "code",
   "execution_count": 2,
   "metadata": {},
   "outputs": [
    {
     "data": {
      "text/html": [
       "<img src=\"Python-datasci.jpg\" width=\"600\" height=\"600\"/>"
      ],
      "text/plain": [
       "<IPython.core.display.Image object>"
      ]
     },
     "execution_count": 2,
     "metadata": {},
     "output_type": "execute_result"
    }
   ],
   "source": [
    "from IPython.display import Image\n",
    "from IPython.core.display import HTML\n",
    "Image(url=\"Python-datasci.jpg\", width=600, height=600)"
   ]
  },
  {
   "cell_type": "markdown",
   "metadata": {},
   "source": [
    "## The data we will be using is from the data.SanDiego.gov site."
   ]
  },
  {
   "cell_type": "code",
   "execution_count": 3,
   "metadata": {
    "collapsed": true
   },
   "outputs": [],
   "source": [
    "#mea culpa: I changed the heading to be title case before I started this so I could have some way to manipulate the columns\n",
    "parking_meters = pd.read_csv('treas_parking_meters_loc_datasd.csv')"
   ]
  },
  {
   "cell_type": "code",
   "execution_count": 4,
   "metadata": {},
   "outputs": [
    {
     "data": {
      "text/html": [
       "<div>\n",
       "<style>\n",
       "    .dataframe thead tr:only-child th {\n",
       "        text-align: right;\n",
       "    }\n",
       "\n",
       "    .dataframe thead th {\n",
       "        text-align: left;\n",
       "    }\n",
       "\n",
       "    .dataframe tbody tr th {\n",
       "        vertical-align: top;\n",
       "    }\n",
       "</style>\n",
       "<table border=\"1\" class=\"dataframe\">\n",
       "  <thead>\n",
       "    <tr style=\"text-align: right;\">\n",
       "      <th></th>\n",
       "      <th>Zone</th>\n",
       "      <th>Area</th>\n",
       "      <th>Sub_Area</th>\n",
       "      <th>Pole</th>\n",
       "      <th>Config_Code</th>\n",
       "      <th>Config_Name</th>\n",
       "      <th>Longitude</th>\n",
       "      <th>Latitude</th>\n",
       "    </tr>\n",
       "  </thead>\n",
       "  <tbody>\n",
       "    <tr>\n",
       "      <th>0</th>\n",
       "      <td>City</td>\n",
       "      <td>Barrio Logan</td>\n",
       "      <td>2900 ADDISON ST</td>\n",
       "      <td>ADN-2912</td>\n",
       "      <td>9116</td>\n",
       "      <td>30 Min Max $1.25 HR 8am-6pm Mon-Sat</td>\n",
       "      <td>-117.230904</td>\n",
       "      <td>32.721670</td>\n",
       "    </tr>\n",
       "    <tr>\n",
       "      <th>1</th>\n",
       "      <td>City</td>\n",
       "      <td>Barrio Logan</td>\n",
       "      <td>2900 ADDISON ST</td>\n",
       "      <td>ADN-2914</td>\n",
       "      <td>9116</td>\n",
       "      <td>30 Min Max $1.25 HR 8am-6pm Mon-Sat</td>\n",
       "      <td>-117.230913</td>\n",
       "      <td>32.721575</td>\n",
       "    </tr>\n",
       "    <tr>\n",
       "      <th>2</th>\n",
       "      <td>City</td>\n",
       "      <td>Barrio Logan</td>\n",
       "      <td>1000 CESAR CHAVEZ WAY</td>\n",
       "      <td>CC-1003</td>\n",
       "      <td>9000</td>\n",
       "      <td>2 Hour Max $1.25 HR 8am-6pm Mon-Sat</td>\n",
       "      <td>-117.145178</td>\n",
       "      <td>32.700353</td>\n",
       "    </tr>\n",
       "    <tr>\n",
       "      <th>3</th>\n",
       "      <td>City</td>\n",
       "      <td>Barrio Logan</td>\n",
       "      <td>1000 CESAR CHAVEZ WAY</td>\n",
       "      <td>CC-1005</td>\n",
       "      <td>9000</td>\n",
       "      <td>2 Hour Max $1.25 HR 8am-6pm Mon-Sat</td>\n",
       "      <td>-117.145178</td>\n",
       "      <td>32.700352</td>\n",
       "    </tr>\n",
       "    <tr>\n",
       "      <th>4</th>\n",
       "      <td>City</td>\n",
       "      <td>Barrio Logan</td>\n",
       "      <td>1000 CESAR CHAVEZ WAY</td>\n",
       "      <td>CC-1011</td>\n",
       "      <td>9000</td>\n",
       "      <td>2 Hour Max $1.25 HR 8am-6pm Mon-Sat</td>\n",
       "      <td>-117.145349</td>\n",
       "      <td>32.700155</td>\n",
       "    </tr>\n",
       "  </tbody>\n",
       "</table>\n",
       "</div>"
      ],
      "text/plain": [
       "   Zone          Area               Sub_Area      Pole  Config_Code  \\\n",
       "0  City  Barrio Logan        2900 ADDISON ST  ADN-2912         9116   \n",
       "1  City  Barrio Logan        2900 ADDISON ST  ADN-2914         9116   \n",
       "2  City  Barrio Logan  1000 CESAR CHAVEZ WAY   CC-1003         9000   \n",
       "3  City  Barrio Logan  1000 CESAR CHAVEZ WAY   CC-1005         9000   \n",
       "4  City  Barrio Logan  1000 CESAR CHAVEZ WAY   CC-1011         9000   \n",
       "\n",
       "                           Config_Name   Longitude   Latitude  \n",
       "0  30 Min Max $1.25 HR 8am-6pm Mon-Sat -117.230904  32.721670  \n",
       "1  30 Min Max $1.25 HR 8am-6pm Mon-Sat -117.230913  32.721575  \n",
       "2  2 Hour Max $1.25 HR 8am-6pm Mon-Sat -117.145178  32.700353  \n",
       "3  2 Hour Max $1.25 HR 8am-6pm Mon-Sat -117.145178  32.700352  \n",
       "4  2 Hour Max $1.25 HR 8am-6pm Mon-Sat -117.145349  32.700155  "
      ]
     },
     "execution_count": 4,
     "metadata": {},
     "output_type": "execute_result"
    }
   ],
   "source": [
    "parking_meters.head()"
   ]
  },
  {
   "cell_type": "code",
   "execution_count": 5,
   "metadata": {},
   "outputs": [
    {
     "data": {
      "text/plain": [
       "Index(['Zone', 'Area', 'Sub_Area', 'Pole', 'Config_Code', 'Config_Name',\n",
       "       'Longitude', 'Latitude'],\n",
       "      dtype='object')"
      ]
     },
     "execution_count": 5,
     "metadata": {},
     "output_type": "execute_result"
    }
   ],
   "source": [
    "parking_meters.columns  # you can see just the column names"
   ]
  },
  {
   "cell_type": "code",
   "execution_count": 6,
   "metadata": {
    "collapsed": true
   },
   "outputs": [],
   "source": [
    "#the column names are separate from your data so changing them is easy, make sure to account for all of them.\n",
    "parking_meters.columns = ['zone', 'area', 'sub_area', 'pole', 'config_code', 'config_name',\n",
    "       'longitude', 'latitude']\n",
    "# also I could do this:\n",
    "# parking_meters.columns = parking_meters.columns.str.lower()"
   ]
  },
  {
   "cell_type": "markdown",
   "metadata": {},
   "source": [
    "## In this dataset the index is numeric but the index can be any column or columns (which I will show in a later talk)"
   ]
  },
  {
   "cell_type": "code",
   "execution_count": 7,
   "metadata": {},
   "outputs": [
    {
     "data": {
      "text/plain": [
       "RangeIndex(start=0, stop=4653, step=1)"
      ]
     },
     "execution_count": 7,
     "metadata": {},
     "output_type": "execute_result"
    }
   ],
   "source": [
    "parking_meters.index # these are what indexes the rows are based on. (the column(s) on the left)"
   ]
  },
  {
   "cell_type": "code",
   "execution_count": 8,
   "metadata": {},
   "outputs": [
    {
     "data": {
      "text/plain": [
       "4653"
      ]
     },
     "execution_count": 8,
     "metadata": {},
     "output_type": "execute_result"
    }
   ],
   "source": [
    "len(parking_meters['pole'].unique())  #how many parking meters are we talking about?  This is like running set()"
   ]
  },
  {
   "cell_type": "code",
   "execution_count": 9,
   "metadata": {},
   "outputs": [
    {
     "data": {
      "text/plain": [
       "array(['City', 'Downtown', 'Mid-City', 'Uptown'], dtype=object)"
      ]
     },
     "execution_count": 9,
     "metadata": {},
     "output_type": "execute_result"
    }
   ],
   "source": [
    "parking_meters['zone'].unique()"
   ]
  },
  {
   "cell_type": "code",
   "execution_count": 10,
   "metadata": {},
   "outputs": [
    {
     "data": {
      "text/plain": [
       "zone            object\n",
       "area            object\n",
       "sub_area        object\n",
       "pole            object\n",
       "config_code      int64\n",
       "config_name     object\n",
       "longitude      float64\n",
       "latitude       float64\n",
       "dtype: object"
      ]
     },
     "execution_count": 10,
     "metadata": {},
     "output_type": "execute_result"
    }
   ],
   "source": [
    "# maybe your data just wonderfully fits as the datatypes you want to work with \n",
    "parking_meters.dtypes"
   ]
  },
  {
   "cell_type": "code",
   "execution_count": 11,
   "metadata": {},
   "outputs": [
    {
     "name": "stdout",
     "output_type": "stream",
     "text": [
      "<class 'pandas.core.frame.DataFrame'>\n",
      "RangeIndex: 4653 entries, 0 to 4652\n",
      "Data columns (total 8 columns):\n",
      "zone           4653 non-null object\n",
      "area           4653 non-null object\n",
      "sub_area       4653 non-null object\n",
      "pole           4653 non-null object\n",
      "config_code    4653 non-null int64\n",
      "config_name    4653 non-null object\n",
      "longitude      4653 non-null float64\n",
      "latitude       4653 non-null float64\n",
      "dtypes: float64(2), int64(1), object(5)\n",
      "memory usage: 290.9+ KB\n"
     ]
    }
   ],
   "source": [
    "parking_meters.info()"
   ]
  },
  {
   "cell_type": "markdown",
   "metadata": {},
   "source": [
    "## Here is a new type we haven't looked at called Category."
   ]
  },
  {
   "cell_type": "code",
   "execution_count": 12,
   "metadata": {},
   "outputs": [
    {
     "data": {
      "text/plain": [
       "array(['City', 'Downtown', 'Mid-City', 'Uptown'], dtype=object)"
      ]
     },
     "execution_count": 12,
     "metadata": {},
     "output_type": "execute_result"
    }
   ],
   "source": [
    "parking_meters.zone.unique()"
   ]
  },
  {
   "cell_type": "code",
   "execution_count": 13,
   "metadata": {},
   "outputs": [
    {
     "data": {
      "text/plain": [
       "zone           category\n",
       "area             object\n",
       "sub_area         object\n",
       "pole             object\n",
       "config_code       int64\n",
       "config_name      object\n",
       "longitude       float64\n",
       "latitude        float64\n",
       "dtype: object"
      ]
     },
     "execution_count": 13,
     "metadata": {},
     "output_type": "execute_result"
    }
   ],
   "source": [
    "parking_meters.zone = parking_meters.zone.astype('category')\n",
    "parking_meters.dtypes"
   ]
  },
  {
   "cell_type": "code",
   "execution_count": 14,
   "metadata": {},
   "outputs": [
    {
     "data": {
      "text/html": [
       "<div>\n",
       "<style>\n",
       "    .dataframe thead tr:only-child th {\n",
       "        text-align: right;\n",
       "    }\n",
       "\n",
       "    .dataframe thead th {\n",
       "        text-align: left;\n",
       "    }\n",
       "\n",
       "    .dataframe tbody tr th {\n",
       "        vertical-align: top;\n",
       "    }\n",
       "</style>\n",
       "<table border=\"1\" class=\"dataframe\">\n",
       "  <thead>\n",
       "    <tr style=\"text-align: right;\">\n",
       "      <th></th>\n",
       "      <th>zone</th>\n",
       "      <th>area</th>\n",
       "      <th>sub_area</th>\n",
       "      <th>pole</th>\n",
       "      <th>config_code</th>\n",
       "      <th>config_name</th>\n",
       "      <th>longitude</th>\n",
       "      <th>latitude</th>\n",
       "    </tr>\n",
       "  </thead>\n",
       "  <tbody>\n",
       "    <tr>\n",
       "      <th>0</th>\n",
       "      <td>City</td>\n",
       "      <td>Barrio Logan</td>\n",
       "      <td>2900 ADDISON ST</td>\n",
       "      <td>ADN-2912</td>\n",
       "      <td>9116</td>\n",
       "      <td>30 Min Max $1.25 HR 8am-6pm Mon-Sat</td>\n",
       "      <td>-117.230904</td>\n",
       "      <td>32.721670</td>\n",
       "    </tr>\n",
       "    <tr>\n",
       "      <th>1</th>\n",
       "      <td>City</td>\n",
       "      <td>Barrio Logan</td>\n",
       "      <td>2900 ADDISON ST</td>\n",
       "      <td>ADN-2914</td>\n",
       "      <td>9116</td>\n",
       "      <td>30 Min Max $1.25 HR 8am-6pm Mon-Sat</td>\n",
       "      <td>-117.230913</td>\n",
       "      <td>32.721575</td>\n",
       "    </tr>\n",
       "    <tr>\n",
       "      <th>2</th>\n",
       "      <td>City</td>\n",
       "      <td>Barrio Logan</td>\n",
       "      <td>1000 CESAR CHAVEZ WAY</td>\n",
       "      <td>CC-1003</td>\n",
       "      <td>9000</td>\n",
       "      <td>2 Hour Max $1.25 HR 8am-6pm Mon-Sat</td>\n",
       "      <td>-117.145178</td>\n",
       "      <td>32.700353</td>\n",
       "    </tr>\n",
       "    <tr>\n",
       "      <th>3</th>\n",
       "      <td>City</td>\n",
       "      <td>Barrio Logan</td>\n",
       "      <td>1000 CESAR CHAVEZ WAY</td>\n",
       "      <td>CC-1005</td>\n",
       "      <td>9000</td>\n",
       "      <td>2 Hour Max $1.25 HR 8am-6pm Mon-Sat</td>\n",
       "      <td>-117.145178</td>\n",
       "      <td>32.700352</td>\n",
       "    </tr>\n",
       "    <tr>\n",
       "      <th>4</th>\n",
       "      <td>City</td>\n",
       "      <td>Barrio Logan</td>\n",
       "      <td>1000 CESAR CHAVEZ WAY</td>\n",
       "      <td>CC-1011</td>\n",
       "      <td>9000</td>\n",
       "      <td>2 Hour Max $1.25 HR 8am-6pm Mon-Sat</td>\n",
       "      <td>-117.145349</td>\n",
       "      <td>32.700155</td>\n",
       "    </tr>\n",
       "  </tbody>\n",
       "</table>\n",
       "</div>"
      ],
      "text/plain": [
       "   zone          area               sub_area      pole  config_code  \\\n",
       "0  City  Barrio Logan        2900 ADDISON ST  ADN-2912         9116   \n",
       "1  City  Barrio Logan        2900 ADDISON ST  ADN-2914         9116   \n",
       "2  City  Barrio Logan  1000 CESAR CHAVEZ WAY   CC-1003         9000   \n",
       "3  City  Barrio Logan  1000 CESAR CHAVEZ WAY   CC-1005         9000   \n",
       "4  City  Barrio Logan  1000 CESAR CHAVEZ WAY   CC-1011         9000   \n",
       "\n",
       "                           config_name   longitude   latitude  \n",
       "0  30 Min Max $1.25 HR 8am-6pm Mon-Sat -117.230904  32.721670  \n",
       "1  30 Min Max $1.25 HR 8am-6pm Mon-Sat -117.230913  32.721575  \n",
       "2  2 Hour Max $1.25 HR 8am-6pm Mon-Sat -117.145178  32.700353  \n",
       "3  2 Hour Max $1.25 HR 8am-6pm Mon-Sat -117.145178  32.700352  \n",
       "4  2 Hour Max $1.25 HR 8am-6pm Mon-Sat -117.145349  32.700155  "
      ]
     },
     "execution_count": 14,
     "metadata": {},
     "output_type": "execute_result"
    }
   ],
   "source": [
    "parking_meters.head()"
   ]
  },
  {
   "cell_type": "code",
   "execution_count": 15,
   "metadata": {},
   "outputs": [
    {
     "name": "stdout",
     "output_type": "stream",
     "text": [
      "<class 'pandas.core.frame.DataFrame'>\n",
      "RangeIndex: 4653 entries, 0 to 4652\n",
      "Data columns (total 8 columns):\n",
      "zone           4653 non-null category\n",
      "area           4653 non-null object\n",
      "sub_area       4653 non-null object\n",
      "pole           4653 non-null object\n",
      "config_code    4653 non-null int64\n",
      "config_name    4653 non-null object\n",
      "longitude      4653 non-null float64\n",
      "latitude       4653 non-null float64\n",
      "dtypes: category(1), float64(2), int64(1), object(4)\n",
      "memory usage: 259.3+ KB\n"
     ]
    }
   ],
   "source": [
    "parking_meters.info()"
   ]
  },
  {
   "cell_type": "code",
   "execution_count": null,
   "metadata": {
    "collapsed": true
   },
   "outputs": [],
   "source": []
  },
  {
   "cell_type": "markdown",
   "metadata": {},
   "source": [
    "## Here are some operations to try on your dataframe involving searching and sorting."
   ]
  },
  {
   "cell_type": "code",
   "execution_count": 16,
   "metadata": {},
   "outputs": [
    {
     "data": {
      "text/html": [
       "<div>\n",
       "<style>\n",
       "    .dataframe thead tr:only-child th {\n",
       "        text-align: right;\n",
       "    }\n",
       "\n",
       "    .dataframe thead th {\n",
       "        text-align: left;\n",
       "    }\n",
       "\n",
       "    .dataframe tbody tr th {\n",
       "        vertical-align: top;\n",
       "    }\n",
       "</style>\n",
       "<table border=\"1\" class=\"dataframe\">\n",
       "  <thead>\n",
       "    <tr style=\"text-align: right;\">\n",
       "      <th></th>\n",
       "      <th>zone</th>\n",
       "      <th>area</th>\n",
       "      <th>sub_area</th>\n",
       "      <th>pole</th>\n",
       "      <th>config_code</th>\n",
       "      <th>config_name</th>\n",
       "      <th>longitude</th>\n",
       "      <th>latitude</th>\n",
       "    </tr>\n",
       "  </thead>\n",
       "  <tbody>\n",
       "    <tr>\n",
       "      <th>1</th>\n",
       "      <td>City</td>\n",
       "      <td>Barrio Logan</td>\n",
       "      <td>2900 ADDISON ST</td>\n",
       "      <td>ADN-2914</td>\n",
       "      <td>9116</td>\n",
       "      <td>30 Min Max $1.25 HR 8am-6pm Mon-Sat</td>\n",
       "      <td>-117.230913</td>\n",
       "      <td>32.721575</td>\n",
       "    </tr>\n",
       "    <tr>\n",
       "      <th>2</th>\n",
       "      <td>City</td>\n",
       "      <td>Barrio Logan</td>\n",
       "      <td>1000 CESAR CHAVEZ WAY</td>\n",
       "      <td>CC-1003</td>\n",
       "      <td>9000</td>\n",
       "      <td>2 Hour Max $1.25 HR 8am-6pm Mon-Sat</td>\n",
       "      <td>-117.145178</td>\n",
       "      <td>32.700353</td>\n",
       "    </tr>\n",
       "  </tbody>\n",
       "</table>\n",
       "</div>"
      ],
      "text/plain": [
       "   zone          area               sub_area      pole  config_code  \\\n",
       "1  City  Barrio Logan        2900 ADDISON ST  ADN-2914         9116   \n",
       "2  City  Barrio Logan  1000 CESAR CHAVEZ WAY   CC-1003         9000   \n",
       "\n",
       "                           config_name   longitude   latitude  \n",
       "1  30 Min Max $1.25 HR 8am-6pm Mon-Sat -117.230913  32.721575  \n",
       "2  2 Hour Max $1.25 HR 8am-6pm Mon-Sat -117.145178  32.700353  "
      ]
     },
     "execution_count": 16,
     "metadata": {},
     "output_type": "execute_result"
    }
   ],
   "source": [
    "parking_meters[1:3] # returns the row index #1 through #3 (but not including #3)"
   ]
  },
  {
   "cell_type": "code",
   "execution_count": 17,
   "metadata": {},
   "outputs": [
    {
     "data": {
      "text/plain": [
       "0             2900 ADDISON ST\n",
       "1             2900 ADDISON ST\n",
       "2       1000 CESAR CHAVEZ WAY\n",
       "3       1000 CESAR CHAVEZ WAY\n",
       "4       1000 CESAR CHAVEZ WAY\n",
       "5       1000 CESAR CHAVEZ WAY\n",
       "6       1000 CESAR CHAVEZ WAY\n",
       "                ...          \n",
       "4646           4600 PARK BLVD\n",
       "4647           4600 PARK BLVD\n",
       "4648           4600 PARK BLVD\n",
       "4649           4600 PARK BLVD\n",
       "4650           4600 PARK BLVD\n",
       "4651           4600 PARK BLVD\n",
       "4652           4600 PARK BLVD\n",
       "Name: sub_area, Length: 4653, dtype: object"
      ]
     },
     "execution_count": 17,
     "metadata": {},
     "output_type": "execute_result"
    }
   ],
   "source": [
    "parking_meters['sub_area'] # how to access a column"
   ]
  },
  {
   "cell_type": "code",
   "execution_count": 18,
   "metadata": {},
   "outputs": [
    {
     "data": {
      "text/plain": [
       "1    ADN-2914\n",
       "2     CC-1003\n",
       "Name: pole, dtype: object"
      ]
     },
     "execution_count": 18,
     "metadata": {},
     "output_type": "execute_result"
    }
   ],
   "source": [
    "parking_meters[1:3]['pole']  # mix and match the last 2 examples  you can do: parking_meters['pole'][1:3]  as well"
   ]
  },
  {
   "cell_type": "markdown",
   "metadata": {
    "collapsed": true
   },
   "source": [
    "## Pandas DataFrame Queries:  This is the mechanics to how queries work."
   ]
  },
  {
   "cell_type": "code",
   "execution_count": 19,
   "metadata": {},
   "outputs": [
    {
     "data": {
      "text/plain": [
       "0        True\n",
       "1        True\n",
       "2        True\n",
       "3        True\n",
       "4        True\n",
       "5        True\n",
       "6        True\n",
       "        ...  \n",
       "4646    False\n",
       "4647    False\n",
       "4648    False\n",
       "4649    False\n",
       "4650    False\n",
       "4651    False\n",
       "4652    False\n",
       "Name: area, Length: 4653, dtype: bool"
      ]
     },
     "execution_count": 19,
     "metadata": {},
     "output_type": "execute_result"
    }
   ],
   "source": [
    "parking_meters['area']=='Barrio Logan'  #returns Truth values whether the query is true for each row."
   ]
  },
  {
   "cell_type": "markdown",
   "metadata": {},
   "source": [
    "## Normal Python operators like \"and\" and \"or\" won't work in a Pandas query because they compare single values on the left and right.  We need operators that work on entire columns.  Pandas uses a single ampersand for and, pipe for or, and carrat for symmetric difference."
   ]
  },
  {
   "cell_type": "code",
   "execution_count": 20,
   "metadata": {},
   "outputs": [
    {
     "data": {
      "text/plain": [
       "0        True\n",
       "1        True\n",
       "2        True\n",
       "3        True\n",
       "4        True\n",
       "5        True\n",
       "6        True\n",
       "        ...  \n",
       "4646    False\n",
       "4647    False\n",
       "4648    False\n",
       "4649    False\n",
       "4650    False\n",
       "4651    False\n",
       "4652    False\n",
       "Length: 4653, dtype: bool"
      ]
     },
     "execution_count": 20,
     "metadata": {},
     "output_type": "execute_result"
    }
   ],
   "source": [
    "(parking_meters['area']=='Barrio Logan') & (parking_meters['longitude']<=117)  #and"
   ]
  },
  {
   "cell_type": "code",
   "execution_count": 21,
   "metadata": {},
   "outputs": [
    {
     "data": {
      "text/plain": [
       "0       True\n",
       "1       True\n",
       "2       True\n",
       "3       True\n",
       "4       True\n",
       "5       True\n",
       "6       True\n",
       "        ... \n",
       "4646    True\n",
       "4647    True\n",
       "4648    True\n",
       "4649    True\n",
       "4650    True\n",
       "4651    True\n",
       "4652    True\n",
       "Length: 4653, dtype: bool"
      ]
     },
     "execution_count": 21,
     "metadata": {},
     "output_type": "execute_result"
    }
   ],
   "source": [
    "(parking_meters['area']=='Barrio Logan') | (parking_meters['longitude']<=117)  #or"
   ]
  },
  {
   "cell_type": "code",
   "execution_count": 22,
   "metadata": {},
   "outputs": [
    {
     "data": {
      "text/plain": [
       "0       False\n",
       "1       False\n",
       "2       False\n",
       "3       False\n",
       "4       False\n",
       "5       False\n",
       "6       False\n",
       "        ...  \n",
       "4646     True\n",
       "4647     True\n",
       "4648     True\n",
       "4649     True\n",
       "4650     True\n",
       "4651     True\n",
       "4652     True\n",
       "Length: 4653, dtype: bool"
      ]
     },
     "execution_count": 22,
     "metadata": {},
     "output_type": "execute_result"
    }
   ],
   "source": [
    "(parking_meters['area']=='Barrio Logan') ^ (parking_meters['longitude']<=117)  #symmetric difference"
   ]
  },
  {
   "cell_type": "markdown",
   "metadata": {},
   "source": [
    "## Mix and match to make complex queries by putting everything in brackets"
   ]
  },
  {
   "cell_type": "code",
   "execution_count": 32,
   "metadata": {},
   "outputs": [
    {
     "data": {
      "text/plain": [
       "0             2900 ADDISON ST\n",
       "1             2900 ADDISON ST\n",
       "2       1000 CESAR CHAVEZ WAY\n",
       "3       1000 CESAR CHAVEZ WAY\n",
       "4       1000 CESAR CHAVEZ WAY\n",
       "5       1000 CESAR CHAVEZ WAY\n",
       "6       1000 CESAR CHAVEZ WAY\n",
       "                ...          \n",
       "4646           4600 PARK BLVD\n",
       "4647           4600 PARK BLVD\n",
       "4648           4600 PARK BLVD\n",
       "4649           4600 PARK BLVD\n",
       "4650           4600 PARK BLVD\n",
       "4651           4600 PARK BLVD\n",
       "4652           4600 PARK BLVD\n",
       "Name: sub_area, Length: 4653, dtype: object"
      ]
     },
     "execution_count": 32,
     "metadata": {},
     "output_type": "execute_result"
    }
   ],
   "source": [
    "parking_meters[(parking_meters['area']==\"Barrio Logan\")][2:8][['pole','config_code']]"
   ]
  },
  {
   "cell_type": "markdown",
   "metadata": {
    "collapsed": true
   },
   "source": [
    "## Now onto munging:"
   ]
  },
  {
   "cell_type": "markdown",
   "metadata": {},
   "source": [
    "### I want to get the dollar amounts from the meters which is in config_name.  But config_name wasn't comma delimited like it should be.  We could fix it in the data before import or we could fix it in Pandas MUCH easier.  (then export it so nobody else has this problem)"
   ]
  },
  {
   "cell_type": "code",
   "execution_count": 24,
   "metadata": {},
   "outputs": [
    {
     "data": {
      "text/plain": [
       "0    30 Min Max $1.25 HR 8am-6pm Mon-Sat\n",
       "1    30 Min Max $1.25 HR 8am-6pm Mon-Sat\n",
       "2    2 Hour Max $1.25 HR 8am-6pm Mon-Sat\n",
       "3    2 Hour Max $1.25 HR 8am-6pm Mon-Sat\n",
       "4    2 Hour Max $1.25 HR 8am-6pm Mon-Sat\n",
       "Name: config_name, dtype: object"
      ]
     },
     "execution_count": 24,
     "metadata": {},
     "output_type": "execute_result"
    }
   ],
   "source": [
    "parking_meters['config_name'].head()"
   ]
  },
  {
   "cell_type": "markdown",
   "metadata": {},
   "source": [
    "### We can use .str to get access to the string data, then we can use quite a few normal python string operations."
   ]
  },
  {
   "cell_type": "markdown",
   "metadata": {},
   "source": [
    "### This is how to get a list out of all those string values, andI want the 4th item which is a little weird in pandas."
   ]
  },
  {
   "cell_type": "code",
   "execution_count": 25,
   "metadata": {},
   "outputs": [
    {
     "data": {
      "text/plain": [
       "0    $1.25\n",
       "1    $1.25\n",
       "2    $1.25\n",
       "3    $1.25\n",
       "4    $1.25\n",
       "Name: config_name, dtype: object"
      ]
     },
     "execution_count": 25,
     "metadata": {},
     "output_type": "execute_result"
    }
   ],
   "source": [
    "parking_meters['config_name'].str.split().str[3].head()"
   ]
  },
  {
   "cell_type": "markdown",
   "metadata": {},
   "source": [
    "## I want to get rid of anything that isn't a money value.  "
   ]
  },
  {
   "cell_type": "code",
   "execution_count": 26,
   "metadata": {},
   "outputs": [
    {
     "data": {
      "text/plain": [
       "0       1.25\n",
       "1       1.25\n",
       "2       1.25\n",
       "3       1.25\n",
       "4       1.25\n",
       "5       1.25\n",
       "6       1.25\n",
       "        ... \n",
       "4646    1.25\n",
       "4647    1.25\n",
       "4648    1.25\n",
       "4649    1.25\n",
       "4650    1.25\n",
       "4651    1.25\n",
       "4652    1.25\n",
       "Name: cost, Length: 4653, dtype: object"
      ]
     },
     "execution_count": 26,
     "metadata": {},
     "output_type": "execute_result"
    }
   ],
   "source": [
    "parking_meters['cost'] = parking_meters['config_name'][parking_meters['config_name']\n",
    "                              .str\n",
    "                              .split()\n",
    "                              .str[3]\n",
    "                              .str\n",
    "                              .startswith('$')].str.split().str[3].str[1:]\n",
    "parking_meters['cost']"
   ]
  },
  {
   "cell_type": "markdown",
   "metadata": {},
   "source": [
    "## Some of the information we are looking for is in the 5th column."
   ]
  },
  {
   "cell_type": "code",
   "execution_count": 29,
   "metadata": {},
   "outputs": [
    {
     "data": {
      "text/plain": [
       "array(['PBP Pilot Copy of Config 9000',\n",
       "       'MSPM 2 Hour Max $1.25 HR 8am-6pm Mon-Sat',\n",
       "       'MSPM 2 Hour Max $1.25 HR 8am-6pm Mon-Fri',\n",
       "       'MSPM 9 Hour Max $0.75 HR 8am-6pm Mon-Sat',\n",
       "       'MSPM 4 Hour Max $1.00 HR 8am-6pm Mon-Sat', 'Copy of 8997 with PBP',\n",
       "       'Copy of 6569 with PBP', 'Copy of 9001 with PBP',\n",
       "       'MSPM 1 Hour Max $1.25 HR 9am-6pm Mon-Sat',\n",
       "       'MSPM 4 Hour Max $1.00 HR 8:30am-6pm Mon-Fri',\n",
       "       'MSPM 9 Hour Max $0.50 HR 8:30am-6pm Mon-Sat',\n",
       "       'MSPM Ballpark Special Event',\n",
       "       'Single Space 2 hour meters Petco Special Event',\n",
       "       'Single Space 30 min meters Petco Special Event P',\n",
       "       'MSPM 4 Hour Max $1.25 HR 10am-8pm Mon-Sat',\n",
       "       'MSPM 2 Hour Max $1.25 HR 10am-8pm Mon-Sat',\n",
       "       'MSPM 4 Hour Max $1.25 HR 8am-6pm Mon-Sat',\n",
       "       'MSPM 9 Hour Max $0.75 HR 10am-8pm Mon-Sat',\n",
       "       'MSPM 4 Hour Max $1.00 HR 10am-8pm Mon-Sat',\n",
       "       'MSPM 2 Hour Max $1.25 HR 8am-6pm Mon-Sat (Fort S',\n",
       "       'MSPM 12 Hour Max $1.25 HR 24/7  (Front Street)',\n",
       "       'PBP Pilot Copy of Config 10932', 'PBP Pilot Copy of Config 12661',\n",
       "       'PBP Pilot Copy of Config 9116', 'PBP Pilot Copy of Config 9115',\n",
       "       'PBP Pilot Copy of Config 8999', 'PBP Pilot Copy of Config 8997',\n",
       "       'MSPM 8 Hour Max $0.50 HR 8am-6pm Mon-Sat (Normal'], dtype=object)"
      ]
     },
     "execution_count": 29,
     "metadata": {},
     "output_type": "execute_result"
    }
   ],
   "source": [
    "parking_meters['config_name'][~(parking_meters['config_name']\n",
    "                              .str\n",
    "                              .split()\n",
    "                              .str[3]\n",
    "                              .str\n",
    "                              .startswith('$'))].unique()"
   ]
  },
  {
   "cell_type": "code",
   "execution_count": 33,
   "metadata": {},
   "outputs": [],
   "source": [
    "parking_meters['cost'] = parking_meters.cost.ffill()\n",
    "#parking_meters['cost'].fillna('missing')\n",
    "#parking_meters['cost'].dropna(axis=0) # ragequit!\n",
    "# interpolation with scipy libs"
   ]
  },
  {
   "cell_type": "code",
   "execution_count": 34,
   "metadata": {},
   "outputs": [
    {
     "data": {
      "text/plain": [
       "array(['1.25', '0.75', '0.50', '1.00'], dtype=object)"
      ]
     },
     "execution_count": 34,
     "metadata": {},
     "output_type": "execute_result"
    }
   ],
   "source": [
    "parking_meters.cost.unique()"
   ]
  },
  {
   "cell_type": "markdown",
   "metadata": {
    "collapsed": true
   },
   "source": [
    "## In all of these calls you can see we have been adding on function after function.  Some of these can get pretty long.  So in the future when I have a long call like this I'll be putting the function calls on the next line.  Like so:"
   ]
  },
  {
   "cell_type": "code",
   "execution_count": null,
   "metadata": {},
   "outputs": [],
   "source": [
    "parking_meters['config_name']\n",
    "        .str\n",
    "        .split()\n",
    "        .str[3].unique()"
   ]
  },
  {
   "cell_type": "code",
   "execution_count": 36,
   "metadata": {},
   "outputs": [
    {
     "data": {
      "text/html": [
       "<div>\n",
       "<style>\n",
       "    .dataframe thead tr:only-child th {\n",
       "        text-align: right;\n",
       "    }\n",
       "\n",
       "    .dataframe thead th {\n",
       "        text-align: left;\n",
       "    }\n",
       "\n",
       "    .dataframe tbody tr th {\n",
       "        vertical-align: top;\n",
       "    }\n",
       "</style>\n",
       "<table border=\"1\" class=\"dataframe\">\n",
       "  <thead>\n",
       "    <tr style=\"text-align: right;\">\n",
       "      <th></th>\n",
       "      <th>zone</th>\n",
       "      <th>area</th>\n",
       "      <th>sub_area</th>\n",
       "      <th>pole</th>\n",
       "      <th>config_code</th>\n",
       "      <th>config_name</th>\n",
       "      <th>longitude</th>\n",
       "      <th>latitude</th>\n",
       "      <th>cost</th>\n",
       "    </tr>\n",
       "  </thead>\n",
       "  <tbody>\n",
       "    <tr>\n",
       "      <th>1016</th>\n",
       "      <td>Downtown</td>\n",
       "      <td>East Village</td>\n",
       "      <td>700\\tTHIRTEENTH ST</td>\n",
       "      <td>13-701</td>\n",
       "      <td>1044</td>\n",
       "      <td>9 Hour Max $0.50 HR 8am-6pm M-Sat</td>\n",
       "      <td>-117.152776</td>\n",
       "      <td>32.712902</td>\n",
       "      <td>0.50</td>\n",
       "    </tr>\n",
       "    <tr>\n",
       "      <th>1017</th>\n",
       "      <td>Downtown</td>\n",
       "      <td>East Village</td>\n",
       "      <td>700\\tTHIRTEENTH ST</td>\n",
       "      <td>13-703</td>\n",
       "      <td>1044</td>\n",
       "      <td>9 Hour Max $0.50 HR 8am-6pm M-Sat</td>\n",
       "      <td>-117.152816</td>\n",
       "      <td>32.712971</td>\n",
       "      <td>0.50</td>\n",
       "    </tr>\n",
       "    <tr>\n",
       "      <th>1018</th>\n",
       "      <td>Downtown</td>\n",
       "      <td>East Village</td>\n",
       "      <td>700\\tTHIRTEENTH ST</td>\n",
       "      <td>13-705</td>\n",
       "      <td>1044</td>\n",
       "      <td>9 Hour Max $0.50 HR 8am-6pm M-Sat</td>\n",
       "      <td>-117.152322</td>\n",
       "      <td>32.712693</td>\n",
       "      <td>0.50</td>\n",
       "    </tr>\n",
       "    <tr>\n",
       "      <th>1019</th>\n",
       "      <td>Downtown</td>\n",
       "      <td>East Village</td>\n",
       "      <td>700\\tTHIRTEENTH ST</td>\n",
       "      <td>13-707</td>\n",
       "      <td>1044</td>\n",
       "      <td>9 Hour Max $0.50 HR 8am-6pm M-Sat</td>\n",
       "      <td>-117.152362</td>\n",
       "      <td>32.712770</td>\n",
       "      <td>0.50</td>\n",
       "    </tr>\n",
       "    <tr>\n",
       "      <th>1020</th>\n",
       "      <td>Downtown</td>\n",
       "      <td>East Village</td>\n",
       "      <td>700\\tTHIRTEENTH ST</td>\n",
       "      <td>13-709</td>\n",
       "      <td>1044</td>\n",
       "      <td>9 Hour Max $0.50 HR 8am-6pm M-Sat</td>\n",
       "      <td>-117.152778</td>\n",
       "      <td>32.713152</td>\n",
       "      <td>0.50</td>\n",
       "    </tr>\n",
       "    <tr>\n",
       "      <th>1021</th>\n",
       "      <td>Downtown</td>\n",
       "      <td>East Village</td>\n",
       "      <td>700\\tTHIRTEENTH ST</td>\n",
       "      <td>13-711</td>\n",
       "      <td>1044</td>\n",
       "      <td>9 Hour Max $0.50 HR 8am-6pm M-Sat</td>\n",
       "      <td>-117.152779</td>\n",
       "      <td>32.713382</td>\n",
       "      <td>0.50</td>\n",
       "    </tr>\n",
       "    <tr>\n",
       "      <th>1022</th>\n",
       "      <td>Downtown</td>\n",
       "      <td>East Village</td>\n",
       "      <td>700\\tTHIRTEENTH ST</td>\n",
       "      <td>13-717</td>\n",
       "      <td>1044</td>\n",
       "      <td>9 Hour Max $0.50 HR 8am-6pm M-Sat</td>\n",
       "      <td>-117.152770</td>\n",
       "      <td>32.713206</td>\n",
       "      <td>0.50</td>\n",
       "    </tr>\n",
       "    <tr>\n",
       "      <th>...</th>\n",
       "      <td>...</td>\n",
       "      <td>...</td>\n",
       "      <td>...</td>\n",
       "      <td>...</td>\n",
       "      <td>...</td>\n",
       "      <td>...</td>\n",
       "      <td>...</td>\n",
       "      <td>...</td>\n",
       "      <td>...</td>\n",
       "    </tr>\n",
       "    <tr>\n",
       "      <th>3890</th>\n",
       "      <td>Uptown</td>\n",
       "      <td>Fort Stockton</td>\n",
       "      <td>900 block South</td>\n",
       "      <td>FS-900S</td>\n",
       "      <td>13501</td>\n",
       "      <td>MSPM 2 Hour Max $1.25 HR 8am-6pm Mon-Sat (Fort S</td>\n",
       "      <td>-117.171776</td>\n",
       "      <td>32.750727</td>\n",
       "      <td>1.25</td>\n",
       "    </tr>\n",
       "    <tr>\n",
       "      <th>3891</th>\n",
       "      <td>Uptown</td>\n",
       "      <td>Front Street</td>\n",
       "      <td>3900 block West</td>\n",
       "      <td>FR-3900W</td>\n",
       "      <td>13502</td>\n",
       "      <td>MSPM 12 Hour Max $1.25 HR 24/7  (Front Street)</td>\n",
       "      <td>-117.165210</td>\n",
       "      <td>32.749576</td>\n",
       "      <td>1.25</td>\n",
       "    </tr>\n",
       "    <tr>\n",
       "      <th>4625</th>\n",
       "      <td>Uptown</td>\n",
       "      <td>Normal Street</td>\n",
       "      <td>3900 block West</td>\n",
       "      <td>NR-3900W</td>\n",
       "      <td>13503</td>\n",
       "      <td>MSPM 8 Hour Max $0.50 HR 8am-6pm Mon-Sat (Normal</td>\n",
       "      <td>-117.149673</td>\n",
       "      <td>32.748761</td>\n",
       "      <td>1.25</td>\n",
       "    </tr>\n",
       "    <tr>\n",
       "      <th>2035</th>\n",
       "      <td>Downtown</td>\n",
       "      <td>Gaslamp</td>\n",
       "      <td>300 Fifth Ave</td>\n",
       "      <td>5-309</td>\n",
       "      <td>13652</td>\n",
       "      <td>2 Hour Max $1.25 HR 8am-6pm Mon-Sat, No Parkin...</td>\n",
       "      <td>-117.160017</td>\n",
       "      <td>32.708693</td>\n",
       "      <td>1.25</td>\n",
       "    </tr>\n",
       "    <tr>\n",
       "      <th>2037</th>\n",
       "      <td>Downtown</td>\n",
       "      <td>Gaslamp</td>\n",
       "      <td>300 Fifth Ave</td>\n",
       "      <td>5-311</td>\n",
       "      <td>13652</td>\n",
       "      <td>2 Hour Max $1.25 HR 8am-6pm Mon-Sat, No Parkin...</td>\n",
       "      <td>-117.160018</td>\n",
       "      <td>32.708808</td>\n",
       "      <td>1.25</td>\n",
       "    </tr>\n",
       "    <tr>\n",
       "      <th>2038</th>\n",
       "      <td>Downtown</td>\n",
       "      <td>Gaslamp</td>\n",
       "      <td>300 Fifth Ave</td>\n",
       "      <td>5-312</td>\n",
       "      <td>13652</td>\n",
       "      <td>2 Hour Max $1.25 HR 8am-6pm Mon-Sat, No Parkin...</td>\n",
       "      <td>-117.160201</td>\n",
       "      <td>32.708864</td>\n",
       "      <td>1.25</td>\n",
       "    </tr>\n",
       "    <tr>\n",
       "      <th>2039</th>\n",
       "      <td>Downtown</td>\n",
       "      <td>Gaslamp</td>\n",
       "      <td>300 Fifth Ave</td>\n",
       "      <td>5-314</td>\n",
       "      <td>13652</td>\n",
       "      <td>2 Hour Max $1.25 HR 8am-6pm Mon-Sat, No Parkin...</td>\n",
       "      <td>-117.160203</td>\n",
       "      <td>32.708980</td>\n",
       "      <td>1.25</td>\n",
       "    </tr>\n",
       "  </tbody>\n",
       "</table>\n",
       "<p>4653 rows × 9 columns</p>\n",
       "</div>"
      ],
      "text/plain": [
       "          zone           area            sub_area      pole  config_code  \\\n",
       "1016  Downtown   East Village  700\\tTHIRTEENTH ST    13-701         1044   \n",
       "1017  Downtown   East Village  700\\tTHIRTEENTH ST    13-703         1044   \n",
       "1018  Downtown   East Village  700\\tTHIRTEENTH ST    13-705         1044   \n",
       "1019  Downtown   East Village  700\\tTHIRTEENTH ST    13-707         1044   \n",
       "1020  Downtown   East Village  700\\tTHIRTEENTH ST    13-709         1044   \n",
       "1021  Downtown   East Village  700\\tTHIRTEENTH ST    13-711         1044   \n",
       "1022  Downtown   East Village  700\\tTHIRTEENTH ST    13-717         1044   \n",
       "...        ...            ...                 ...       ...          ...   \n",
       "3890    Uptown  Fort Stockton     900 block South   FS-900S        13501   \n",
       "3891    Uptown   Front Street     3900 block West  FR-3900W        13502   \n",
       "4625    Uptown  Normal Street     3900 block West  NR-3900W        13503   \n",
       "2035  Downtown        Gaslamp       300 Fifth Ave     5-309        13652   \n",
       "2037  Downtown        Gaslamp       300 Fifth Ave     5-311        13652   \n",
       "2038  Downtown        Gaslamp       300 Fifth Ave     5-312        13652   \n",
       "2039  Downtown        Gaslamp       300 Fifth Ave     5-314        13652   \n",
       "\n",
       "                                            config_name   longitude  \\\n",
       "1016                  9 Hour Max $0.50 HR 8am-6pm M-Sat -117.152776   \n",
       "1017                  9 Hour Max $0.50 HR 8am-6pm M-Sat -117.152816   \n",
       "1018                  9 Hour Max $0.50 HR 8am-6pm M-Sat -117.152322   \n",
       "1019                  9 Hour Max $0.50 HR 8am-6pm M-Sat -117.152362   \n",
       "1020                  9 Hour Max $0.50 HR 8am-6pm M-Sat -117.152778   \n",
       "1021                  9 Hour Max $0.50 HR 8am-6pm M-Sat -117.152779   \n",
       "1022                  9 Hour Max $0.50 HR 8am-6pm M-Sat -117.152770   \n",
       "...                                                 ...         ...   \n",
       "3890   MSPM 2 Hour Max $1.25 HR 8am-6pm Mon-Sat (Fort S -117.171776   \n",
       "3891     MSPM 12 Hour Max $1.25 HR 24/7  (Front Street) -117.165210   \n",
       "4625   MSPM 8 Hour Max $0.50 HR 8am-6pm Mon-Sat (Normal -117.149673   \n",
       "2035  2 Hour Max $1.25 HR 8am-6pm Mon-Sat, No Parkin... -117.160017   \n",
       "2037  2 Hour Max $1.25 HR 8am-6pm Mon-Sat, No Parkin... -117.160018   \n",
       "2038  2 Hour Max $1.25 HR 8am-6pm Mon-Sat, No Parkin... -117.160201   \n",
       "2039  2 Hour Max $1.25 HR 8am-6pm Mon-Sat, No Parkin... -117.160203   \n",
       "\n",
       "       latitude  cost  \n",
       "1016  32.712902  0.50  \n",
       "1017  32.712971  0.50  \n",
       "1018  32.712693  0.50  \n",
       "1019  32.712770  0.50  \n",
       "1020  32.713152  0.50  \n",
       "1021  32.713382  0.50  \n",
       "1022  32.713206  0.50  \n",
       "...         ...   ...  \n",
       "3890  32.750727  1.25  \n",
       "3891  32.749576  1.25  \n",
       "4625  32.748761  1.25  \n",
       "2035  32.708693  1.25  \n",
       "2037  32.708808  1.25  \n",
       "2038  32.708864  1.25  \n",
       "2039  32.708980  1.25  \n",
       "\n",
       "[4653 rows x 9 columns]"
      ]
     },
     "execution_count": 36,
     "metadata": {},
     "output_type": "execute_result"
    }
   ],
   "source": [
    "parking_meters.sort_values(['cost', 'config_code'])"
   ]
  },
  {
   "cell_type": "code",
   "execution_count": null,
   "metadata": {
    "collapsed": true
   },
   "outputs": [],
   "source": []
  },
  {
   "cell_type": "code",
   "execution_count": null,
   "metadata": {
    "collapsed": true
   },
   "outputs": [],
   "source": []
  },
  {
   "cell_type": "code",
   "execution_count": null,
   "metadata": {
    "collapsed": true
   },
   "outputs": [],
   "source": []
  },
  {
   "cell_type": "markdown",
   "metadata": {
    "collapsed": true
   },
   "source": [
    "## We will do more data transformation and munging next time"
   ]
  },
  {
   "cell_type": "code",
   "execution_count": null,
   "metadata": {
    "collapsed": true
   },
   "outputs": [],
   "source": []
  },
  {
   "cell_type": "code",
   "execution_count": null,
   "metadata": {
    "collapsed": true
   },
   "outputs": [],
   "source": []
  },
  {
   "cell_type": "code",
   "execution_count": null,
   "metadata": {
    "collapsed": true
   },
   "outputs": [],
   "source": []
  },
  {
   "cell_type": "code",
   "execution_count": null,
   "metadata": {
    "collapsed": true
   },
   "outputs": [],
   "source": []
  },
  {
   "cell_type": "code",
   "execution_count": null,
   "metadata": {
    "collapsed": true
   },
   "outputs": [],
   "source": []
  },
  {
   "cell_type": "code",
   "execution_count": null,
   "metadata": {
    "collapsed": true
   },
   "outputs": [],
   "source": []
  }
 ],
 "metadata": {
  "kernelspec": {
   "display_name": "Python 3",
   "language": "python",
   "name": "python3"
  },
  "language_info": {
   "codemirror_mode": {
    "name": "ipython",
    "version": 3
   },
   "file_extension": ".py",
   "mimetype": "text/x-python",
   "name": "python",
   "nbconvert_exporter": "python",
   "pygments_lexer": "ipython3",
   "version": "3.6.2"
  }
 },
 "nbformat": 4,
 "nbformat_minor": 2
}
