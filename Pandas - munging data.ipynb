{
 "cells": [
  {
   "cell_type": "markdown",
   "metadata": {
    "slideshow": {
     "slide_type": "slide"
    }
   },
   "source": [
    "## Last time we found how to import data, reviewed the mentality of using DataFrames, what are DataFrames limitations, and why you would use it over others (SQL, Excel).  This time we are going over fixing broken data with Pandas."
   ]
  },
  {
   "cell_type": "code",
   "execution_count": 13,
   "metadata": {
    "collapsed": true,
    "slideshow": {
     "slide_type": "fragment"
    }
   },
   "outputs": [],
   "source": [
    "import pandas as pd\n",
    "pd.set_option('max_rows',15)"
   ]
  },
  {
   "cell_type": "markdown",
   "metadata": {
    "slideshow": {
     "slide_type": "subslide"
    }
   },
   "source": [
    "## We are still in the Mid-level of the Python Data Stack."
   ]
  },
  {
   "cell_type": "code",
   "execution_count": 40,
   "metadata": {},
   "outputs": [
    {
     "data": {
      "text/html": [
       "<img src=\"Python-datasci.jpg\" width=\"600\" height=\"600\"/>"
      ],
      "text/plain": [
       "<IPython.core.display.Image object>"
      ]
     },
     "execution_count": 40,
     "metadata": {},
     "output_type": "execute_result"
    }
   ],
   "source": [
    "from IPython.display import Image\n",
    "from IPython.core.display import HTML\n",
    "Image(url=\"Python-datasci.jpg\", width=600, height=600)"
   ]
  },
  {
   "cell_type": "markdown",
   "metadata": {},
   "source": [
    "## The data we will be using is from the data.SanDiego.gov site."
   ]
  },
  {
   "cell_type": "code",
   "execution_count": 15,
   "metadata": {
    "collapsed": true
   },
   "outputs": [],
   "source": [
    "parking_meters = pd.read_csv('treas_parking_meters_loc_datasd.csv')"
   ]
  },
  {
   "cell_type": "code",
   "execution_count": 16,
   "metadata": {},
   "outputs": [
    {
     "data": {
      "text/html": [
       "<div>\n",
       "<style>\n",
       "    .dataframe thead tr:only-child th {\n",
       "        text-align: right;\n",
       "    }\n",
       "\n",
       "    .dataframe thead th {\n",
       "        text-align: left;\n",
       "    }\n",
       "\n",
       "    .dataframe tbody tr th {\n",
       "        vertical-align: top;\n",
       "    }\n",
       "</style>\n",
       "<table border=\"1\" class=\"dataframe\">\n",
       "  <thead>\n",
       "    <tr style=\"text-align: right;\">\n",
       "      <th></th>\n",
       "      <th>zone</th>\n",
       "      <th>area</th>\n",
       "      <th>sub_area</th>\n",
       "      <th>pole</th>\n",
       "      <th>config_code</th>\n",
       "      <th>config_name</th>\n",
       "      <th>longitude</th>\n",
       "      <th>latitude</th>\n",
       "    </tr>\n",
       "  </thead>\n",
       "  <tbody>\n",
       "    <tr>\n",
       "      <th>0</th>\n",
       "      <td>City</td>\n",
       "      <td>Barrio Logan</td>\n",
       "      <td>2900 ADDISON ST</td>\n",
       "      <td>ADN-2912</td>\n",
       "      <td>9116</td>\n",
       "      <td>30 Min Max $1.25 HR 8am-6pm Mon-Sat</td>\n",
       "      <td>-117.230904</td>\n",
       "      <td>32.721670</td>\n",
       "    </tr>\n",
       "    <tr>\n",
       "      <th>1</th>\n",
       "      <td>City</td>\n",
       "      <td>Barrio Logan</td>\n",
       "      <td>2900 ADDISON ST</td>\n",
       "      <td>ADN-2914</td>\n",
       "      <td>9116</td>\n",
       "      <td>30 Min Max $1.25 HR 8am-6pm Mon-Sat</td>\n",
       "      <td>-117.230913</td>\n",
       "      <td>32.721575</td>\n",
       "    </tr>\n",
       "    <tr>\n",
       "      <th>2</th>\n",
       "      <td>City</td>\n",
       "      <td>Barrio Logan</td>\n",
       "      <td>1000 CESAR CHAVEZ WAY</td>\n",
       "      <td>CC-1003</td>\n",
       "      <td>9000</td>\n",
       "      <td>2 Hour Max $1.25 HR 8am-6pm Mon-Sat</td>\n",
       "      <td>-117.145178</td>\n",
       "      <td>32.700353</td>\n",
       "    </tr>\n",
       "    <tr>\n",
       "      <th>3</th>\n",
       "      <td>City</td>\n",
       "      <td>Barrio Logan</td>\n",
       "      <td>1000 CESAR CHAVEZ WAY</td>\n",
       "      <td>CC-1005</td>\n",
       "      <td>9000</td>\n",
       "      <td>2 Hour Max $1.25 HR 8am-6pm Mon-Sat</td>\n",
       "      <td>-117.145178</td>\n",
       "      <td>32.700352</td>\n",
       "    </tr>\n",
       "    <tr>\n",
       "      <th>4</th>\n",
       "      <td>City</td>\n",
       "      <td>Barrio Logan</td>\n",
       "      <td>1000 CESAR CHAVEZ WAY</td>\n",
       "      <td>CC-1011</td>\n",
       "      <td>9000</td>\n",
       "      <td>2 Hour Max $1.25 HR 8am-6pm Mon-Sat</td>\n",
       "      <td>-117.145349</td>\n",
       "      <td>32.700155</td>\n",
       "    </tr>\n",
       "  </tbody>\n",
       "</table>\n",
       "</div>"
      ],
      "text/plain": [
       "   zone          area               sub_area      pole  config_code  \\\n",
       "0  City  Barrio Logan        2900 ADDISON ST  ADN-2912         9116   \n",
       "1  City  Barrio Logan        2900 ADDISON ST  ADN-2914         9116   \n",
       "2  City  Barrio Logan  1000 CESAR CHAVEZ WAY   CC-1003         9000   \n",
       "3  City  Barrio Logan  1000 CESAR CHAVEZ WAY   CC-1005         9000   \n",
       "4  City  Barrio Logan  1000 CESAR CHAVEZ WAY   CC-1011         9000   \n",
       "\n",
       "                           config_name   longitude   latitude  \n",
       "0  30 Min Max $1.25 HR 8am-6pm Mon-Sat -117.230904  32.721670  \n",
       "1  30 Min Max $1.25 HR 8am-6pm Mon-Sat -117.230913  32.721575  \n",
       "2  2 Hour Max $1.25 HR 8am-6pm Mon-Sat -117.145178  32.700353  \n",
       "3  2 Hour Max $1.25 HR 8am-6pm Mon-Sat -117.145178  32.700352  \n",
       "4  2 Hour Max $1.25 HR 8am-6pm Mon-Sat -117.145349  32.700155  "
      ]
     },
     "execution_count": 16,
     "metadata": {},
     "output_type": "execute_result"
    }
   ],
   "source": [
    "parking_meters.head()"
   ]
  },
  {
   "cell_type": "code",
   "execution_count": 5,
   "metadata": {},
   "outputs": [
    {
     "data": {
      "text/plain": [
       "Index(['zone', 'area', 'sub_area', 'pole', 'config_code', 'config_name',\n",
       "       'longitude', 'latitude'],\n",
       "      dtype='object')"
      ]
     },
     "execution_count": 5,
     "metadata": {},
     "output_type": "execute_result"
    }
   ],
   "source": [
    "parking_meters.columns  # you can see just the column names"
   ]
  },
  {
   "cell_type": "code",
   "execution_count": 44,
   "metadata": {
    "collapsed": true
   },
   "outputs": [],
   "source": [
    "#the column names are separate from your data so changing them is easy, make sure to account for all of them.\n",
    "parking_meters.columns = ['Zone', 'Area', 'Sub_Area', 'Pole', 'Config_Code', 'Config_Name',\n",
    "       'Longitude', 'Latitude']\n",
    "# also I could do this:\n",
    "# parking_meters.columns = parking_meters.columns.str.title()"
   ]
  },
  {
   "cell_type": "markdown",
   "metadata": {},
   "source": [
    "## In this dataset the index is numeric but the index can be any column or columns (which I will show in a later talk)"
   ]
  },
  {
   "cell_type": "code",
   "execution_count": 7,
   "metadata": {},
   "outputs": [
    {
     "data": {
      "text/plain": [
       "RangeIndex(start=0, stop=4653, step=1)"
      ]
     },
     "execution_count": 7,
     "metadata": {},
     "output_type": "execute_result"
    }
   ],
   "source": [
    "parking_meters.index # these are what indexes the rows are based on. (the column(s) on the left)"
   ]
  },
  {
   "cell_type": "code",
   "execution_count": 41,
   "metadata": {},
   "outputs": [
    {
     "data": {
      "text/plain": [
       "Zone            object\n",
       "Area            object\n",
       "Sub_Area        object\n",
       "Pole            object\n",
       "Config_Code      int64\n",
       "Config_Name     object\n",
       "Longitude      float64\n",
       "Latitude       float64\n",
       "dtype: object"
      ]
     },
     "execution_count": 41,
     "metadata": {},
     "output_type": "execute_result"
    }
   ],
   "source": [
    "# maybe your data just wonderfully fits as the datatypes you want to work with \n",
    "parking_meters.dtypes"
   ]
  },
  {
   "cell_type": "code",
   "execution_count": 43,
   "metadata": {},
   "outputs": [
    {
     "data": {
      "text/html": [
       "<div>\n",
       "<style>\n",
       "    .dataframe thead tr:only-child th {\n",
       "        text-align: right;\n",
       "    }\n",
       "\n",
       "    .dataframe thead th {\n",
       "        text-align: left;\n",
       "    }\n",
       "\n",
       "    .dataframe tbody tr th {\n",
       "        vertical-align: top;\n",
       "    }\n",
       "</style>\n",
       "<table border=\"1\" class=\"dataframe\">\n",
       "  <thead>\n",
       "    <tr style=\"text-align: right;\">\n",
       "      <th></th>\n",
       "      <th>Zone</th>\n",
       "      <th>Area</th>\n",
       "      <th>Sub_Area</th>\n",
       "      <th>Pole</th>\n",
       "      <th>Config_Code</th>\n",
       "      <th>Config_Name</th>\n",
       "      <th>Longitude</th>\n",
       "      <th>Latitude</th>\n",
       "    </tr>\n",
       "  </thead>\n",
       "  <tbody>\n",
       "    <tr>\n",
       "      <th>4648</th>\n",
       "      <td>Uptown</td>\n",
       "      <td>University Hei</td>\n",
       "      <td>4600 PARK BLVD</td>\n",
       "      <td>PB-4618</td>\n",
       "      <td>9000</td>\n",
       "      <td>2 Hour Max $1.25 HR 8am-6pm Mon-Sat</td>\n",
       "      <td>-117.146344</td>\n",
       "      <td>32.761601</td>\n",
       "    </tr>\n",
       "    <tr>\n",
       "      <th>4649</th>\n",
       "      <td>Uptown</td>\n",
       "      <td>University Hei</td>\n",
       "      <td>4600 PARK BLVD</td>\n",
       "      <td>PB-4622</td>\n",
       "      <td>9000</td>\n",
       "      <td>2 Hour Max $1.25 HR 8am-6pm Mon-Sat</td>\n",
       "      <td>-117.146241</td>\n",
       "      <td>32.761375</td>\n",
       "    </tr>\n",
       "    <tr>\n",
       "      <th>4650</th>\n",
       "      <td>Uptown</td>\n",
       "      <td>University Hei</td>\n",
       "      <td>4600 PARK BLVD</td>\n",
       "      <td>PB-4631</td>\n",
       "      <td>9000</td>\n",
       "      <td>2 Hour Max $1.25 HR 8am-6pm Mon-Sat</td>\n",
       "      <td>-117.146185</td>\n",
       "      <td>32.762074</td>\n",
       "    </tr>\n",
       "    <tr>\n",
       "      <th>4651</th>\n",
       "      <td>Uptown</td>\n",
       "      <td>University Hei</td>\n",
       "      <td>4600 PARK BLVD</td>\n",
       "      <td>PB-4633</td>\n",
       "      <td>9000</td>\n",
       "      <td>2 Hour Max $1.25 HR 8am-6pm Mon-Sat</td>\n",
       "      <td>-117.146180</td>\n",
       "      <td>32.762115</td>\n",
       "    </tr>\n",
       "    <tr>\n",
       "      <th>4652</th>\n",
       "      <td>Uptown</td>\n",
       "      <td>University Hei</td>\n",
       "      <td>4600 PARK BLVD</td>\n",
       "      <td>PB-4635</td>\n",
       "      <td>9000</td>\n",
       "      <td>2 Hour Max $1.25 HR 8am-6pm Mon-Sat</td>\n",
       "      <td>-117.146182</td>\n",
       "      <td>32.762184</td>\n",
       "    </tr>\n",
       "  </tbody>\n",
       "</table>\n",
       "</div>"
      ],
      "text/plain": [
       "        Zone            Area        Sub_Area     Pole  Config_Code  \\\n",
       "4648  Uptown  University Hei  4600 PARK BLVD  PB-4618         9000   \n",
       "4649  Uptown  University Hei  4600 PARK BLVD  PB-4622         9000   \n",
       "4650  Uptown  University Hei  4600 PARK BLVD  PB-4631         9000   \n",
       "4651  Uptown  University Hei  4600 PARK BLVD  PB-4633         9000   \n",
       "4652  Uptown  University Hei  4600 PARK BLVD  PB-4635         9000   \n",
       "\n",
       "                              Config_Name   Longitude   Latitude  \n",
       "4648  2 Hour Max $1.25 HR 8am-6pm Mon-Sat -117.146344  32.761601  \n",
       "4649  2 Hour Max $1.25 HR 8am-6pm Mon-Sat -117.146241  32.761375  \n",
       "4650  2 Hour Max $1.25 HR 8am-6pm Mon-Sat -117.146185  32.762074  \n",
       "4651  2 Hour Max $1.25 HR 8am-6pm Mon-Sat -117.146180  32.762115  \n",
       "4652  2 Hour Max $1.25 HR 8am-6pm Mon-Sat -117.146182  32.762184  "
      ]
     },
     "execution_count": 43,
     "metadata": {},
     "output_type": "execute_result"
    }
   ],
   "source": [
    "parking_meters.tail()"
   ]
  },
  {
   "cell_type": "code",
   "execution_count": 39,
   "metadata": {},
   "outputs": [
    {
     "data": {
      "text/html": [
       "<div>\n",
       "<style>\n",
       "    .dataframe thead tr:only-child th {\n",
       "        text-align: right;\n",
       "    }\n",
       "\n",
       "    .dataframe thead th {\n",
       "        text-align: left;\n",
       "    }\n",
       "\n",
       "    .dataframe tbody tr th {\n",
       "        vertical-align: top;\n",
       "    }\n",
       "</style>\n",
       "<table border=\"1\" class=\"dataframe\">\n",
       "  <thead>\n",
       "    <tr style=\"text-align: right;\">\n",
       "      <th></th>\n",
       "      <th>Zone</th>\n",
       "      <th>Area</th>\n",
       "      <th>Sub_Area</th>\n",
       "      <th>Pole</th>\n",
       "      <th>Config_Code</th>\n",
       "      <th>Config_Name</th>\n",
       "      <th>Longitude</th>\n",
       "      <th>Latitude</th>\n",
       "    </tr>\n",
       "  </thead>\n",
       "  <tbody>\n",
       "    <tr>\n",
       "      <th>0</th>\n",
       "      <td>City</td>\n",
       "      <td>Barrio Logan</td>\n",
       "      <td>2900 ADDISON ST</td>\n",
       "      <td>ADN-2912</td>\n",
       "      <td>9116</td>\n",
       "      <td>30 Min Max $1.25 HR 8am-6pm Mon-Sat</td>\n",
       "      <td>-117.230904</td>\n",
       "      <td>32.721670</td>\n",
       "    </tr>\n",
       "    <tr>\n",
       "      <th>1</th>\n",
       "      <td>City</td>\n",
       "      <td>Barrio Logan</td>\n",
       "      <td>2900 ADDISON ST</td>\n",
       "      <td>ADN-2914</td>\n",
       "      <td>9116</td>\n",
       "      <td>30 Min Max $1.25 HR 8am-6pm Mon-Sat</td>\n",
       "      <td>-117.230913</td>\n",
       "      <td>32.721575</td>\n",
       "    </tr>\n",
       "    <tr>\n",
       "      <th>2</th>\n",
       "      <td>City</td>\n",
       "      <td>Barrio Logan</td>\n",
       "      <td>1000 CESAR CHAVEZ WAY</td>\n",
       "      <td>CC-1003</td>\n",
       "      <td>9000</td>\n",
       "      <td>2 Hour Max $1.25 HR 8am-6pm Mon-Sat</td>\n",
       "      <td>-117.145178</td>\n",
       "      <td>32.700353</td>\n",
       "    </tr>\n",
       "    <tr>\n",
       "      <th>3</th>\n",
       "      <td>City</td>\n",
       "      <td>Barrio Logan</td>\n",
       "      <td>1000 CESAR CHAVEZ WAY</td>\n",
       "      <td>CC-1005</td>\n",
       "      <td>9000</td>\n",
       "      <td>2 Hour Max $1.25 HR 8am-6pm Mon-Sat</td>\n",
       "      <td>-117.145178</td>\n",
       "      <td>32.700352</td>\n",
       "    </tr>\n",
       "    <tr>\n",
       "      <th>4</th>\n",
       "      <td>City</td>\n",
       "      <td>Barrio Logan</td>\n",
       "      <td>1000 CESAR CHAVEZ WAY</td>\n",
       "      <td>CC-1011</td>\n",
       "      <td>9000</td>\n",
       "      <td>2 Hour Max $1.25 HR 8am-6pm Mon-Sat</td>\n",
       "      <td>-117.145349</td>\n",
       "      <td>32.700155</td>\n",
       "    </tr>\n",
       "    <tr>\n",
       "      <th>5</th>\n",
       "      <td>City</td>\n",
       "      <td>Barrio Logan</td>\n",
       "      <td>1000 CESAR CHAVEZ WAY</td>\n",
       "      <td>CC-1013</td>\n",
       "      <td>9000</td>\n",
       "      <td>2 Hour Max $1.25 HR 8am-6pm Mon-Sat</td>\n",
       "      <td>-117.145405</td>\n",
       "      <td>32.700107</td>\n",
       "    </tr>\n",
       "    <tr>\n",
       "      <th>6</th>\n",
       "      <td>City</td>\n",
       "      <td>Barrio Logan</td>\n",
       "      <td>1000 CESAR CHAVEZ WAY</td>\n",
       "      <td>CC-1015</td>\n",
       "      <td>9000</td>\n",
       "      <td>2 Hour Max $1.25 HR 8am-6pm Mon-Sat</td>\n",
       "      <td>-117.145539</td>\n",
       "      <td>32.699987</td>\n",
       "    </tr>\n",
       "    <tr>\n",
       "      <th>...</th>\n",
       "      <td>...</td>\n",
       "      <td>...</td>\n",
       "      <td>...</td>\n",
       "      <td>...</td>\n",
       "      <td>...</td>\n",
       "      <td>...</td>\n",
       "      <td>...</td>\n",
       "      <td>...</td>\n",
       "    </tr>\n",
       "    <tr>\n",
       "      <th>4646</th>\n",
       "      <td>Uptown</td>\n",
       "      <td>University Hei</td>\n",
       "      <td>4600 PARK BLVD</td>\n",
       "      <td>PB-4614</td>\n",
       "      <td>9000</td>\n",
       "      <td>2 Hour Max $1.25 HR 8am-6pm Mon-Sat</td>\n",
       "      <td>-117.146381</td>\n",
       "      <td>32.761526</td>\n",
       "    </tr>\n",
       "    <tr>\n",
       "      <th>4647</th>\n",
       "      <td>Uptown</td>\n",
       "      <td>University Hei</td>\n",
       "      <td>4600 PARK BLVD</td>\n",
       "      <td>PB-4616</td>\n",
       "      <td>9000</td>\n",
       "      <td>2 Hour Max $1.25 HR 8am-6pm Mon-Sat</td>\n",
       "      <td>-117.146246</td>\n",
       "      <td>32.761377</td>\n",
       "    </tr>\n",
       "    <tr>\n",
       "      <th>4648</th>\n",
       "      <td>Uptown</td>\n",
       "      <td>University Hei</td>\n",
       "      <td>4600 PARK BLVD</td>\n",
       "      <td>PB-4618</td>\n",
       "      <td>9000</td>\n",
       "      <td>2 Hour Max $1.25 HR 8am-6pm Mon-Sat</td>\n",
       "      <td>-117.146344</td>\n",
       "      <td>32.761601</td>\n",
       "    </tr>\n",
       "    <tr>\n",
       "      <th>4649</th>\n",
       "      <td>Uptown</td>\n",
       "      <td>University Hei</td>\n",
       "      <td>4600 PARK BLVD</td>\n",
       "      <td>PB-4622</td>\n",
       "      <td>9000</td>\n",
       "      <td>2 Hour Max $1.25 HR 8am-6pm Mon-Sat</td>\n",
       "      <td>-117.146241</td>\n",
       "      <td>32.761375</td>\n",
       "    </tr>\n",
       "    <tr>\n",
       "      <th>4650</th>\n",
       "      <td>Uptown</td>\n",
       "      <td>University Hei</td>\n",
       "      <td>4600 PARK BLVD</td>\n",
       "      <td>PB-4631</td>\n",
       "      <td>9000</td>\n",
       "      <td>2 Hour Max $1.25 HR 8am-6pm Mon-Sat</td>\n",
       "      <td>-117.146185</td>\n",
       "      <td>32.762074</td>\n",
       "    </tr>\n",
       "    <tr>\n",
       "      <th>4651</th>\n",
       "      <td>Uptown</td>\n",
       "      <td>University Hei</td>\n",
       "      <td>4600 PARK BLVD</td>\n",
       "      <td>PB-4633</td>\n",
       "      <td>9000</td>\n",
       "      <td>2 Hour Max $1.25 HR 8am-6pm Mon-Sat</td>\n",
       "      <td>-117.146180</td>\n",
       "      <td>32.762115</td>\n",
       "    </tr>\n",
       "    <tr>\n",
       "      <th>4652</th>\n",
       "      <td>Uptown</td>\n",
       "      <td>University Hei</td>\n",
       "      <td>4600 PARK BLVD</td>\n",
       "      <td>PB-4635</td>\n",
       "      <td>9000</td>\n",
       "      <td>2 Hour Max $1.25 HR 8am-6pm Mon-Sat</td>\n",
       "      <td>-117.146182</td>\n",
       "      <td>32.762184</td>\n",
       "    </tr>\n",
       "  </tbody>\n",
       "</table>\n",
       "<p>4653 rows × 8 columns</p>\n",
       "</div>"
      ],
      "text/plain": [
       "        Zone            Area               Sub_Area      Pole  Config_Code  \\\n",
       "0       City    Barrio Logan        2900 ADDISON ST  ADN-2912         9116   \n",
       "1       City    Barrio Logan        2900 ADDISON ST  ADN-2914         9116   \n",
       "2       City    Barrio Logan  1000 CESAR CHAVEZ WAY   CC-1003         9000   \n",
       "3       City    Barrio Logan  1000 CESAR CHAVEZ WAY   CC-1005         9000   \n",
       "4       City    Barrio Logan  1000 CESAR CHAVEZ WAY   CC-1011         9000   \n",
       "5       City    Barrio Logan  1000 CESAR CHAVEZ WAY   CC-1013         9000   \n",
       "6       City    Barrio Logan  1000 CESAR CHAVEZ WAY   CC-1015         9000   \n",
       "...      ...             ...                    ...       ...          ...   \n",
       "4646  Uptown  University Hei         4600 PARK BLVD   PB-4614         9000   \n",
       "4647  Uptown  University Hei         4600 PARK BLVD   PB-4616         9000   \n",
       "4648  Uptown  University Hei         4600 PARK BLVD   PB-4618         9000   \n",
       "4649  Uptown  University Hei         4600 PARK BLVD   PB-4622         9000   \n",
       "4650  Uptown  University Hei         4600 PARK BLVD   PB-4631         9000   \n",
       "4651  Uptown  University Hei         4600 PARK BLVD   PB-4633         9000   \n",
       "4652  Uptown  University Hei         4600 PARK BLVD   PB-4635         9000   \n",
       "\n",
       "                              Config_Name   Longitude   Latitude  \n",
       "0     30 Min Max $1.25 HR 8am-6pm Mon-Sat -117.230904  32.721670  \n",
       "1     30 Min Max $1.25 HR 8am-6pm Mon-Sat -117.230913  32.721575  \n",
       "2     2 Hour Max $1.25 HR 8am-6pm Mon-Sat -117.145178  32.700353  \n",
       "3     2 Hour Max $1.25 HR 8am-6pm Mon-Sat -117.145178  32.700352  \n",
       "4     2 Hour Max $1.25 HR 8am-6pm Mon-Sat -117.145349  32.700155  \n",
       "5     2 Hour Max $1.25 HR 8am-6pm Mon-Sat -117.145405  32.700107  \n",
       "6     2 Hour Max $1.25 HR 8am-6pm Mon-Sat -117.145539  32.699987  \n",
       "...                                   ...         ...        ...  \n",
       "4646  2 Hour Max $1.25 HR 8am-6pm Mon-Sat -117.146381  32.761526  \n",
       "4647  2 Hour Max $1.25 HR 8am-6pm Mon-Sat -117.146246  32.761377  \n",
       "4648  2 Hour Max $1.25 HR 8am-6pm Mon-Sat -117.146344  32.761601  \n",
       "4649  2 Hour Max $1.25 HR 8am-6pm Mon-Sat -117.146241  32.761375  \n",
       "4650  2 Hour Max $1.25 HR 8am-6pm Mon-Sat -117.146185  32.762074  \n",
       "4651  2 Hour Max $1.25 HR 8am-6pm Mon-Sat -117.146180  32.762115  \n",
       "4652  2 Hour Max $1.25 HR 8am-6pm Mon-Sat -117.146182  32.762184  \n",
       "\n",
       "[4653 rows x 8 columns]"
      ]
     },
     "execution_count": 39,
     "metadata": {},
     "output_type": "execute_result"
    }
   ],
   "source": [
    "parking_meters"
   ]
  },
  {
   "cell_type": "code",
   "execution_count": 38,
   "metadata": {
    "collapsed": true
   },
   "outputs": [],
   "source": []
  },
  {
   "cell_type": "code",
   "execution_count": null,
   "metadata": {
    "collapsed": true
   },
   "outputs": [],
   "source": []
  },
  {
   "cell_type": "code",
   "execution_count": null,
   "metadata": {
    "collapsed": true
   },
   "outputs": [],
   "source": []
  },
  {
   "cell_type": "markdown",
   "metadata": {},
   "source": [
    "## All of these operations can be done when you import your data."
   ]
  },
  {
   "cell_type": "code",
   "execution_count": null,
   "metadata": {
    "collapsed": true
   },
   "outputs": [],
   "source": []
  },
  {
   "cell_type": "code",
   "execution_count": null,
   "metadata": {
    "collapsed": true
   },
   "outputs": [],
   "source": []
  },
  {
   "cell_type": "markdown",
   "metadata": {},
   "source": [
    "## Here are some operations to try on your dataframe involving searching and sorting."
   ]
  },
  {
   "cell_type": "code",
   "execution_count": 10,
   "metadata": {},
   "outputs": [
    {
     "data": {
      "text/html": [
       "<div>\n",
       "<style>\n",
       "    .dataframe thead tr:only-child th {\n",
       "        text-align: right;\n",
       "    }\n",
       "\n",
       "    .dataframe thead th {\n",
       "        text-align: left;\n",
       "    }\n",
       "\n",
       "    .dataframe tbody tr th {\n",
       "        vertical-align: top;\n",
       "    }\n",
       "</style>\n",
       "<table border=\"1\" class=\"dataframe\">\n",
       "  <thead>\n",
       "    <tr style=\"text-align: right;\">\n",
       "      <th></th>\n",
       "      <th>Zone</th>\n",
       "      <th>Area</th>\n",
       "      <th>Sub_Area</th>\n",
       "      <th>Pole</th>\n",
       "      <th>Config_Code</th>\n",
       "      <th>Config_Name</th>\n",
       "      <th>Longitude</th>\n",
       "      <th>Latitude</th>\n",
       "    </tr>\n",
       "  </thead>\n",
       "  <tbody>\n",
       "    <tr>\n",
       "      <th>1</th>\n",
       "      <td>City</td>\n",
       "      <td>Barrio Logan</td>\n",
       "      <td>2900 ADDISON ST</td>\n",
       "      <td>ADN-2914</td>\n",
       "      <td>9116</td>\n",
       "      <td>30 Min Max $1.25 HR 8am-6pm Mon-Sat</td>\n",
       "      <td>-117.230913</td>\n",
       "      <td>32.721575</td>\n",
       "    </tr>\n",
       "    <tr>\n",
       "      <th>2</th>\n",
       "      <td>City</td>\n",
       "      <td>Barrio Logan</td>\n",
       "      <td>1000 CESAR CHAVEZ WAY</td>\n",
       "      <td>CC-1003</td>\n",
       "      <td>9000</td>\n",
       "      <td>2 Hour Max $1.25 HR 8am-6pm Mon-Sat</td>\n",
       "      <td>-117.145178</td>\n",
       "      <td>32.700353</td>\n",
       "    </tr>\n",
       "  </tbody>\n",
       "</table>\n",
       "</div>"
      ],
      "text/plain": [
       "   Zone          Area               Sub_Area      Pole  Config_Code  \\\n",
       "1  City  Barrio Logan        2900 ADDISON ST  ADN-2914         9116   \n",
       "2  City  Barrio Logan  1000 CESAR CHAVEZ WAY   CC-1003         9000   \n",
       "\n",
       "                           Config_Name   Longitude   Latitude  \n",
       "1  30 Min Max $1.25 HR 8am-6pm Mon-Sat -117.230913  32.721575  \n",
       "2  2 Hour Max $1.25 HR 8am-6pm Mon-Sat -117.145178  32.700353  "
      ]
     },
     "execution_count": 10,
     "metadata": {},
     "output_type": "execute_result"
    }
   ],
   "source": [
    "parking_meters[1:3] # returns the row index #1 through #3 (but not including #3)"
   ]
  },
  {
   "cell_type": "code",
   "execution_count": 11,
   "metadata": {},
   "outputs": [
    {
     "ename": "KeyError",
     "evalue": "'pole'",
     "output_type": "error",
     "traceback": [
      "\u001b[0;31m---------------------------------------------------------------------------\u001b[0m",
      "\u001b[0;31mKeyError\u001b[0m                                  Traceback (most recent call last)",
      "\u001b[0;32m~/anaconda/envs/py3k/lib/python3.6/site-packages/pandas/core/indexes/base.py\u001b[0m in \u001b[0;36mget_loc\u001b[0;34m(self, key, method, tolerance)\u001b[0m\n\u001b[1;32m   2441\u001b[0m             \u001b[0;32mtry\u001b[0m\u001b[0;34m:\u001b[0m\u001b[0;34m\u001b[0m\u001b[0m\n\u001b[0;32m-> 2442\u001b[0;31m                 \u001b[0;32mreturn\u001b[0m \u001b[0mself\u001b[0m\u001b[0;34m.\u001b[0m\u001b[0m_engine\u001b[0m\u001b[0;34m.\u001b[0m\u001b[0mget_loc\u001b[0m\u001b[0;34m(\u001b[0m\u001b[0mkey\u001b[0m\u001b[0;34m)\u001b[0m\u001b[0;34m\u001b[0m\u001b[0m\n\u001b[0m\u001b[1;32m   2443\u001b[0m             \u001b[0;32mexcept\u001b[0m \u001b[0mKeyError\u001b[0m\u001b[0;34m:\u001b[0m\u001b[0;34m\u001b[0m\u001b[0m\n",
      "\u001b[0;32mpandas/_libs/index.pyx\u001b[0m in \u001b[0;36mpandas._libs.index.IndexEngine.get_loc (pandas/_libs/index.c:5280)\u001b[0;34m()\u001b[0m\n",
      "\u001b[0;32mpandas/_libs/index.pyx\u001b[0m in \u001b[0;36mpandas._libs.index.IndexEngine.get_loc (pandas/_libs/index.c:5126)\u001b[0;34m()\u001b[0m\n",
      "\u001b[0;32mpandas/_libs/hashtable_class_helper.pxi\u001b[0m in \u001b[0;36mpandas._libs.hashtable.PyObjectHashTable.get_item (pandas/_libs/hashtable.c:20523)\u001b[0;34m()\u001b[0m\n",
      "\u001b[0;32mpandas/_libs/hashtable_class_helper.pxi\u001b[0m in \u001b[0;36mpandas._libs.hashtable.PyObjectHashTable.get_item (pandas/_libs/hashtable.c:20477)\u001b[0;34m()\u001b[0m\n",
      "\u001b[0;31mKeyError\u001b[0m: 'pole'",
      "\nDuring handling of the above exception, another exception occurred:\n",
      "\u001b[0;31mKeyError\u001b[0m                                  Traceback (most recent call last)",
      "\u001b[0;32m<ipython-input-11-f18c78ce9354>\u001b[0m in \u001b[0;36m<module>\u001b[0;34m()\u001b[0m\n\u001b[0;32m----> 1\u001b[0;31m \u001b[0mparking_meters\u001b[0m\u001b[0;34m[\u001b[0m\u001b[0;34m'pole'\u001b[0m\u001b[0;34m]\u001b[0m \u001b[0;31m# how to access a column\u001b[0m\u001b[0;34m\u001b[0m\u001b[0m\n\u001b[0m",
      "\u001b[0;32m~/anaconda/envs/py3k/lib/python3.6/site-packages/pandas/core/frame.py\u001b[0m in \u001b[0;36m__getitem__\u001b[0;34m(self, key)\u001b[0m\n\u001b[1;32m   1962\u001b[0m             \u001b[0;32mreturn\u001b[0m \u001b[0mself\u001b[0m\u001b[0;34m.\u001b[0m\u001b[0m_getitem_multilevel\u001b[0m\u001b[0;34m(\u001b[0m\u001b[0mkey\u001b[0m\u001b[0;34m)\u001b[0m\u001b[0;34m\u001b[0m\u001b[0m\n\u001b[1;32m   1963\u001b[0m         \u001b[0;32melse\u001b[0m\u001b[0;34m:\u001b[0m\u001b[0;34m\u001b[0m\u001b[0m\n\u001b[0;32m-> 1964\u001b[0;31m             \u001b[0;32mreturn\u001b[0m \u001b[0mself\u001b[0m\u001b[0;34m.\u001b[0m\u001b[0m_getitem_column\u001b[0m\u001b[0;34m(\u001b[0m\u001b[0mkey\u001b[0m\u001b[0;34m)\u001b[0m\u001b[0;34m\u001b[0m\u001b[0m\n\u001b[0m\u001b[1;32m   1965\u001b[0m \u001b[0;34m\u001b[0m\u001b[0m\n\u001b[1;32m   1966\u001b[0m     \u001b[0;32mdef\u001b[0m \u001b[0m_getitem_column\u001b[0m\u001b[0;34m(\u001b[0m\u001b[0mself\u001b[0m\u001b[0;34m,\u001b[0m \u001b[0mkey\u001b[0m\u001b[0;34m)\u001b[0m\u001b[0;34m:\u001b[0m\u001b[0;34m\u001b[0m\u001b[0m\n",
      "\u001b[0;32m~/anaconda/envs/py3k/lib/python3.6/site-packages/pandas/core/frame.py\u001b[0m in \u001b[0;36m_getitem_column\u001b[0;34m(self, key)\u001b[0m\n\u001b[1;32m   1969\u001b[0m         \u001b[0;31m# get column\u001b[0m\u001b[0;34m\u001b[0m\u001b[0;34m\u001b[0m\u001b[0m\n\u001b[1;32m   1970\u001b[0m         \u001b[0;32mif\u001b[0m \u001b[0mself\u001b[0m\u001b[0;34m.\u001b[0m\u001b[0mcolumns\u001b[0m\u001b[0;34m.\u001b[0m\u001b[0mis_unique\u001b[0m\u001b[0;34m:\u001b[0m\u001b[0;34m\u001b[0m\u001b[0m\n\u001b[0;32m-> 1971\u001b[0;31m             \u001b[0;32mreturn\u001b[0m \u001b[0mself\u001b[0m\u001b[0;34m.\u001b[0m\u001b[0m_get_item_cache\u001b[0m\u001b[0;34m(\u001b[0m\u001b[0mkey\u001b[0m\u001b[0;34m)\u001b[0m\u001b[0;34m\u001b[0m\u001b[0m\n\u001b[0m\u001b[1;32m   1972\u001b[0m \u001b[0;34m\u001b[0m\u001b[0m\n\u001b[1;32m   1973\u001b[0m         \u001b[0;31m# duplicate columns & possible reduce dimensionality\u001b[0m\u001b[0;34m\u001b[0m\u001b[0;34m\u001b[0m\u001b[0m\n",
      "\u001b[0;32m~/anaconda/envs/py3k/lib/python3.6/site-packages/pandas/core/generic.py\u001b[0m in \u001b[0;36m_get_item_cache\u001b[0;34m(self, item)\u001b[0m\n\u001b[1;32m   1643\u001b[0m         \u001b[0mres\u001b[0m \u001b[0;34m=\u001b[0m \u001b[0mcache\u001b[0m\u001b[0;34m.\u001b[0m\u001b[0mget\u001b[0m\u001b[0;34m(\u001b[0m\u001b[0mitem\u001b[0m\u001b[0;34m)\u001b[0m\u001b[0;34m\u001b[0m\u001b[0m\n\u001b[1;32m   1644\u001b[0m         \u001b[0;32mif\u001b[0m \u001b[0mres\u001b[0m \u001b[0;32mis\u001b[0m \u001b[0;32mNone\u001b[0m\u001b[0;34m:\u001b[0m\u001b[0;34m\u001b[0m\u001b[0m\n\u001b[0;32m-> 1645\u001b[0;31m             \u001b[0mvalues\u001b[0m \u001b[0;34m=\u001b[0m \u001b[0mself\u001b[0m\u001b[0;34m.\u001b[0m\u001b[0m_data\u001b[0m\u001b[0;34m.\u001b[0m\u001b[0mget\u001b[0m\u001b[0;34m(\u001b[0m\u001b[0mitem\u001b[0m\u001b[0;34m)\u001b[0m\u001b[0;34m\u001b[0m\u001b[0m\n\u001b[0m\u001b[1;32m   1646\u001b[0m             \u001b[0mres\u001b[0m \u001b[0;34m=\u001b[0m \u001b[0mself\u001b[0m\u001b[0;34m.\u001b[0m\u001b[0m_box_item_values\u001b[0m\u001b[0;34m(\u001b[0m\u001b[0mitem\u001b[0m\u001b[0;34m,\u001b[0m \u001b[0mvalues\u001b[0m\u001b[0;34m)\u001b[0m\u001b[0;34m\u001b[0m\u001b[0m\n\u001b[1;32m   1647\u001b[0m             \u001b[0mcache\u001b[0m\u001b[0;34m[\u001b[0m\u001b[0mitem\u001b[0m\u001b[0;34m]\u001b[0m \u001b[0;34m=\u001b[0m \u001b[0mres\u001b[0m\u001b[0;34m\u001b[0m\u001b[0m\n",
      "\u001b[0;32m~/anaconda/envs/py3k/lib/python3.6/site-packages/pandas/core/internals.py\u001b[0m in \u001b[0;36mget\u001b[0;34m(self, item, fastpath)\u001b[0m\n\u001b[1;32m   3588\u001b[0m \u001b[0;34m\u001b[0m\u001b[0m\n\u001b[1;32m   3589\u001b[0m             \u001b[0;32mif\u001b[0m \u001b[0;32mnot\u001b[0m \u001b[0misnull\u001b[0m\u001b[0;34m(\u001b[0m\u001b[0mitem\u001b[0m\u001b[0;34m)\u001b[0m\u001b[0;34m:\u001b[0m\u001b[0;34m\u001b[0m\u001b[0m\n\u001b[0;32m-> 3590\u001b[0;31m                 \u001b[0mloc\u001b[0m \u001b[0;34m=\u001b[0m \u001b[0mself\u001b[0m\u001b[0;34m.\u001b[0m\u001b[0mitems\u001b[0m\u001b[0;34m.\u001b[0m\u001b[0mget_loc\u001b[0m\u001b[0;34m(\u001b[0m\u001b[0mitem\u001b[0m\u001b[0;34m)\u001b[0m\u001b[0;34m\u001b[0m\u001b[0m\n\u001b[0m\u001b[1;32m   3591\u001b[0m             \u001b[0;32melse\u001b[0m\u001b[0;34m:\u001b[0m\u001b[0;34m\u001b[0m\u001b[0m\n\u001b[1;32m   3592\u001b[0m                 \u001b[0mindexer\u001b[0m \u001b[0;34m=\u001b[0m \u001b[0mnp\u001b[0m\u001b[0;34m.\u001b[0m\u001b[0marange\u001b[0m\u001b[0;34m(\u001b[0m\u001b[0mlen\u001b[0m\u001b[0;34m(\u001b[0m\u001b[0mself\u001b[0m\u001b[0;34m.\u001b[0m\u001b[0mitems\u001b[0m\u001b[0;34m)\u001b[0m\u001b[0;34m)\u001b[0m\u001b[0;34m[\u001b[0m\u001b[0misnull\u001b[0m\u001b[0;34m(\u001b[0m\u001b[0mself\u001b[0m\u001b[0;34m.\u001b[0m\u001b[0mitems\u001b[0m\u001b[0;34m)\u001b[0m\u001b[0;34m]\u001b[0m\u001b[0;34m\u001b[0m\u001b[0m\n",
      "\u001b[0;32m~/anaconda/envs/py3k/lib/python3.6/site-packages/pandas/core/indexes/base.py\u001b[0m in \u001b[0;36mget_loc\u001b[0;34m(self, key, method, tolerance)\u001b[0m\n\u001b[1;32m   2442\u001b[0m                 \u001b[0;32mreturn\u001b[0m \u001b[0mself\u001b[0m\u001b[0;34m.\u001b[0m\u001b[0m_engine\u001b[0m\u001b[0;34m.\u001b[0m\u001b[0mget_loc\u001b[0m\u001b[0;34m(\u001b[0m\u001b[0mkey\u001b[0m\u001b[0;34m)\u001b[0m\u001b[0;34m\u001b[0m\u001b[0m\n\u001b[1;32m   2443\u001b[0m             \u001b[0;32mexcept\u001b[0m \u001b[0mKeyError\u001b[0m\u001b[0;34m:\u001b[0m\u001b[0;34m\u001b[0m\u001b[0m\n\u001b[0;32m-> 2444\u001b[0;31m                 \u001b[0;32mreturn\u001b[0m \u001b[0mself\u001b[0m\u001b[0;34m.\u001b[0m\u001b[0m_engine\u001b[0m\u001b[0;34m.\u001b[0m\u001b[0mget_loc\u001b[0m\u001b[0;34m(\u001b[0m\u001b[0mself\u001b[0m\u001b[0;34m.\u001b[0m\u001b[0m_maybe_cast_indexer\u001b[0m\u001b[0;34m(\u001b[0m\u001b[0mkey\u001b[0m\u001b[0;34m)\u001b[0m\u001b[0;34m)\u001b[0m\u001b[0;34m\u001b[0m\u001b[0m\n\u001b[0m\u001b[1;32m   2445\u001b[0m \u001b[0;34m\u001b[0m\u001b[0m\n\u001b[1;32m   2446\u001b[0m         \u001b[0mindexer\u001b[0m \u001b[0;34m=\u001b[0m \u001b[0mself\u001b[0m\u001b[0;34m.\u001b[0m\u001b[0mget_indexer\u001b[0m\u001b[0;34m(\u001b[0m\u001b[0;34m[\u001b[0m\u001b[0mkey\u001b[0m\u001b[0;34m]\u001b[0m\u001b[0;34m,\u001b[0m \u001b[0mmethod\u001b[0m\u001b[0;34m=\u001b[0m\u001b[0mmethod\u001b[0m\u001b[0;34m,\u001b[0m \u001b[0mtolerance\u001b[0m\u001b[0;34m=\u001b[0m\u001b[0mtolerance\u001b[0m\u001b[0;34m)\u001b[0m\u001b[0;34m\u001b[0m\u001b[0m\n",
      "\u001b[0;32mpandas/_libs/index.pyx\u001b[0m in \u001b[0;36mpandas._libs.index.IndexEngine.get_loc (pandas/_libs/index.c:5280)\u001b[0;34m()\u001b[0m\n",
      "\u001b[0;32mpandas/_libs/index.pyx\u001b[0m in \u001b[0;36mpandas._libs.index.IndexEngine.get_loc (pandas/_libs/index.c:5126)\u001b[0;34m()\u001b[0m\n",
      "\u001b[0;32mpandas/_libs/hashtable_class_helper.pxi\u001b[0m in \u001b[0;36mpandas._libs.hashtable.PyObjectHashTable.get_item (pandas/_libs/hashtable.c:20523)\u001b[0;34m()\u001b[0m\n",
      "\u001b[0;32mpandas/_libs/hashtable_class_helper.pxi\u001b[0m in \u001b[0;36mpandas._libs.hashtable.PyObjectHashTable.get_item (pandas/_libs/hashtable.c:20477)\u001b[0;34m()\u001b[0m\n",
      "\u001b[0;31mKeyError\u001b[0m: 'pole'"
     ]
    }
   ],
   "source": [
    "parking_meters['pole'] # how to access a column"
   ]
  },
  {
   "cell_type": "code",
   "execution_count": null,
   "metadata": {
    "collapsed": true
   },
   "outputs": [],
   "source": [
    "parking_meters[1:3]['pole']  # mix and match the last 2 examples  you can do: parking_meters['pole'][1:3]  as well"
   ]
  },
  {
   "cell_type": "markdown",
   "metadata": {},
   "source": [
    "## Put a row, a column, or a query inside the brackets."
   ]
  },
  {
   "cell_type": "code",
   "execution_count": null,
   "metadata": {
    "collapsed": true
   },
   "outputs": [],
   "source": [
    "parking_meters[(parking_meters['area']==\"Barrio Logan\")][2:12:3][['pole','config_code']]"
   ]
  },
  {
   "cell_type": "code",
   "execution_count": null,
   "metadata": {
    "collapsed": true
   },
   "outputs": [],
   "source": [
    "parking_meters['area'].unique()"
   ]
  },
  {
   "cell_type": "code",
   "execution_count": null,
   "metadata": {
    "collapsed": true
   },
   "outputs": [],
   "source": [
    "len(parking_meters['pole'].unique())  #how many parking meters are we talking about?  This is like running set()"
   ]
  },
  {
   "cell_type": "markdown",
   "metadata": {
    "collapsed": true
   },
   "source": [
    "## Pandas DataFrame queries are your normal equality operators inside, with set operations on the outside.  Lemme show you:"
   ]
  },
  {
   "cell_type": "code",
   "execution_count": null,
   "metadata": {
    "collapsed": true
   },
   "outputs": [],
   "source": [
    "parking_meters['area']=='Barrio Logan'  #returns Truth values whether the query is true for each row."
   ]
  },
  {
   "cell_type": "markdown",
   "metadata": {},
   "source": [
    "## Normal Python operators like \"and\" and \"or\" won't work in a Pandas query because they compare single values on the left and right.  We need operators that work on entire columns.  Pandas uses a single ampersand for and, pipe for or, and carrat for symmetric difference."
   ]
  },
  {
   "cell_type": "code",
   "execution_count": null,
   "metadata": {
    "collapsed": true
   },
   "outputs": [],
   "source": [
    "(parking_meters['area']=='Barrio Logan') & (parking_meters['longitude']<-117)"
   ]
  },
  {
   "cell_type": "code",
   "execution_count": null,
   "metadata": {
    "collapsed": true
   },
   "outputs": [],
   "source": [
    "(parking_meters['area']=='Barrio Logan') ^ (parking_meters['longitude']<-117)"
   ]
  },
  {
   "cell_type": "code",
   "execution_count": null,
   "metadata": {
    "collapsed": true
   },
   "outputs": [],
   "source": []
  },
  {
   "cell_type": "markdown",
   "metadata": {},
   "source": [
    "### I want to get the dollar amounts from the meters which is in config_name.  But config_name wasn't comma delimited like it should be.  We could fix it in the data before import or we could fix it in Pandas MUCH easier.  (then export it so nobody else has this problem)"
   ]
  },
  {
   "cell_type": "markdown",
   "metadata": {},
   "source": [
    "### We can use .str to treat the data as a string (which it is), then we can use quite a few normal python string operations."
   ]
  },
  {
   "cell_type": "code",
   "execution_count": null,
   "metadata": {
    "collapsed": true
   },
   "outputs": [],
   "source": [
    "parking_meters['config_name'].str.split().head()"
   ]
  },
  {
   "cell_type": "markdown",
   "metadata": {},
   "source": [
    "### We have it in a list now.  So I want the 4th item which is a little weird in pandas."
   ]
  },
  {
   "cell_type": "code",
   "execution_count": null,
   "metadata": {
    "collapsed": true
   },
   "outputs": [],
   "source": [
    "parking_meters['config_name'].str.split().str[3].head()"
   ]
  },
  {
   "cell_type": "code",
   "execution_count": null,
   "metadata": {
    "collapsed": true
   },
   "outputs": [],
   "source": [
    "pd.unique(parking_meters['config_name'].str.split().str[3])  # pd.unique is the same as set() but more pandas'y"
   ]
  },
  {
   "cell_type": "markdown",
   "metadata": {
    "collapsed": true
   },
   "source": [
    "## In all of these calls you can see we have been adding on function after function.  Some of these can get pretty long.  So in the future when I have a long call like this I'll be putting the function calls on the next line.  Like so:"
   ]
  },
  {
   "cell_type": "code",
   "execution_count": null,
   "metadata": {
    "collapsed": true
   },
   "outputs": [],
   "source": [
    "pd.unique(\n",
    "    parking_meters['config_name']\n",
    "        .str\n",
    "        .split()\n",
    "        .str[3])  # pd.unique is the same as set() but more pandas'y"
   ]
  },
  {
   "cell_type": "code",
   "execution_count": null,
   "metadata": {
    "collapsed": true
   },
   "outputs": [],
   "source": []
  },
  {
   "cell_type": "code",
   "execution_count": null,
   "metadata": {
    "collapsed": true
   },
   "outputs": [],
   "source": []
  },
  {
   "cell_type": "code",
   "execution_count": null,
   "metadata": {
    "collapsed": true
   },
   "outputs": [],
   "source": []
  },
  {
   "cell_type": "code",
   "execution_count": null,
   "metadata": {
    "collapsed": true
   },
   "outputs": [],
   "source": []
  },
  {
   "cell_type": "markdown",
   "metadata": {},
   "source": [
    "## I want to get rid of anything that isn't a money value.  But before blanketly deleting these rows I want to take a look at them to see if they contain anything of value (maybe they just put the cost in a different column)"
   ]
  },
  {
   "cell_type": "code",
   "execution_count": null,
   "metadata": {
    "collapsed": true
   },
   "outputs": [],
   "source": [
    "parking_meters.config_name[parking_meters.config_name.]"
   ]
  },
  {
   "cell_type": "markdown",
   "metadata": {},
   "source": [
    "## How would using this be different than using a spreadsheet application?"
   ]
  },
  {
   "cell_type": "markdown",
   "metadata": {},
   "source": [
    "This doesn't operate on one cell at a time.  You have to think about the entire row or column. Let me show some samples:"
   ]
  },
  {
   "cell_type": "code",
   "execution_count": null,
   "metadata": {
    "collapsed": true
   },
   "outputs": [],
   "source": [
    "parking_meters.head()"
   ]
  },
  {
   "cell_type": "markdown",
   "metadata": {},
   "source": [
    "## OH NO.  We find out from Nasa that the satelites are off by -1 degree longitude for our San Diego Parking Meter dataset.  We can fix the whole column by changing the values."
   ]
  },
  {
   "cell_type": "code",
   "execution_count": null,
   "metadata": {
    "collapsed": true
   },
   "outputs": [],
   "source": [
    "parking_meters['longitude'] = parking_meters['longitude'] - 1"
   ]
  },
  {
   "cell_type": "code",
   "execution_count": null,
   "metadata": {
    "collapsed": true
   },
   "outputs": [],
   "source": []
  },
  {
   "cell_type": "code",
   "execution_count": null,
   "metadata": {
    "collapsed": true
   },
   "outputs": [],
   "source": [
    "parking_meters.head()"
   ]
  },
  {
   "cell_type": "markdown",
   "metadata": {},
   "source": [
    "## We can see information about the numerical columns by doing a describe() operation."
   ]
  },
  {
   "cell_type": "code",
   "execution_count": null,
   "metadata": {
    "collapsed": true
   },
   "outputs": [],
   "source": [
    "parking_meters.describe()"
   ]
  },
  {
   "cell_type": "markdown",
   "metadata": {},
   "source": [
    "## The data types of this dataFrame are as follows.  If you remember from last time, this information can be used to speed up slow operations by reducing the amount of memory a particular column is using by changing the data type."
   ]
  },
  {
   "cell_type": "code",
   "execution_count": null,
   "metadata": {
    "collapsed": true
   },
   "outputs": [],
   "source": [
    "parking_meters.dtypes"
   ]
  },
  {
   "cell_type": "code",
   "execution_count": null,
   "metadata": {
    "collapsed": true
   },
   "outputs": [],
   "source": [
    "import numpy as np\n",
    "parking_meters['config_code'] = parking_meters['config_code'].astype(np.int16)"
   ]
  },
  {
   "cell_type": "markdown",
   "metadata": {},
   "source": [
    "## And now when you look at the Dtypes you will see the config_code has changed type."
   ]
  },
  {
   "cell_type": "code",
   "execution_count": null,
   "metadata": {
    "collapsed": true
   },
   "outputs": [],
   "source": [
    "parking_meters.dtypes"
   ]
  },
  {
   "cell_type": "code",
   "execution_count": null,
   "metadata": {
    "collapsed": true
   },
   "outputs": [],
   "source": [
    "parking_meters.head()"
   ]
  },
  {
   "cell_type": "markdown",
   "metadata": {},
   "source": [
    "## I was going to show you how to split off the dollar values from this column But it turns out not all the columns are fomatted the same."
   ]
  },
  {
   "cell_type": "code",
   "execution_count": null,
   "metadata": {
    "collapsed": true
   },
   "outputs": [],
   "source": [
    "#set(parking_meters['config_name'])\n",
    "parking_meters['config_name'].str.split().str[3]\n"
   ]
  },
  {
   "cell_type": "markdown",
   "metadata": {},
   "source": [
    "# We will talk about cleaning up data in Pandas for next time ..."
   ]
  },
  {
   "cell_type": "code",
   "execution_count": null,
   "metadata": {
    "collapsed": true
   },
   "outputs": [],
   "source": []
  }
 ],
 "metadata": {
  "kernelspec": {
   "display_name": "Python 3",
   "language": "python",
   "name": "python3"
  },
  "language_info": {
   "codemirror_mode": {
    "name": "ipython",
    "version": 3
   },
   "file_extension": ".py",
   "mimetype": "text/x-python",
   "name": "python",
   "nbconvert_exporter": "python",
   "pygments_lexer": "ipython3",
   "version": "3.6.2"
  }
 },
 "nbformat": 4,
 "nbformat_minor": 2
}
