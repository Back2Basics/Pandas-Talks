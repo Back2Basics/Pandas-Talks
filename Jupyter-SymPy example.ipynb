{
 "cells": [
  {
   "cell_type": "code",
   "execution_count": 1,
   "metadata": {},
   "outputs": [],
   "source": [
    "from IPython.display import display\n",
    "\n",
    "from sympy.interactive import printing\n",
    "printing.init_printing(use_latex='mathjax')\n",
    "\n",
    "from __future__ import division\n",
    "import sympy as sym\n",
    "from sympy import *\n",
    "x, y, z = symbols(\"x y z\")\n",
    "k, m, n = symbols(\"k m n\", integer=True)\n",
    "f, g, h = map(Function, 'fgh')"
   ]
  },
  {
   "cell_type": "code",
   "execution_count": 2,
   "metadata": {},
   "outputs": [
    {
     "data": {
      "text/latex": [
       "$$\\frac{3 \\pi}{2} + \\frac{e^{i x}}{x^{2} + y}$$"
      ],
      "text/plain": [
       "        ⅈ⋅x \n",
       "3⋅π    ℯ    \n",
       "─── + ──────\n",
       " 2     2    \n",
       "      x  + y"
      ]
     },
     "execution_count": 2,
     "metadata": {},
     "output_type": "execute_result"
    }
   ],
   "source": [
    "Rational(3,2)*pi + exp(I*x) / (x**2 + y)"
   ]
  },
  {
   "cell_type": "code",
   "execution_count": 3,
   "metadata": {},
   "outputs": [
    {
     "data": {
      "text/latex": [
       "$$-1.0$$"
      ],
      "text/plain": [
       "-1.00000000000000"
      ]
     },
     "execution_count": 3,
     "metadata": {},
     "output_type": "execute_result"
    }
   ],
   "source": [
    "exp(I*x).subs(x,pi).evalf()"
   ]
  },
  {
   "cell_type": "code",
   "execution_count": 4,
   "metadata": {},
   "outputs": [
    {
     "data": {
      "text/latex": [
       "$$\\left(x + 1\\right) \\left(x + y\\right)^{2}$$"
      ],
      "text/plain": [
       "               2\n",
       "(x + 1)⋅(x + y) "
      ]
     },
     "execution_count": 4,
     "metadata": {},
     "output_type": "execute_result"
    }
   ],
   "source": [
    "eq = ((x+y)**2 * (x+1))\n",
    "eq"
   ]
  },
  {
   "cell_type": "code",
   "execution_count": 5,
   "metadata": {},
   "outputs": [
    {
     "data": {
      "text/latex": [
       "$$x^{3} + 2 x^{2} y + x^{2} + x y^{2} + 2 x y + y^{2}$$"
      ],
      "text/plain": [
       " 3      2      2      2            2\n",
       "x  + 2⋅x ⋅y + x  + x⋅y  + 2⋅x⋅y + y "
      ]
     },
     "execution_count": 5,
     "metadata": {},
     "output_type": "execute_result"
    }
   ],
   "source": [
    "expand(eq)"
   ]
  },
  {
   "cell_type": "code",
   "execution_count": 6,
   "metadata": {},
   "outputs": [
    {
     "data": {
      "text/latex": [
       "$$\\sum_{n=a}^{b} \\left(2^{n} + 6 n^{2}\\right)$$"
      ],
      "text/plain": [
       "  b              \n",
       " ___             \n",
       " ╲               \n",
       "  ╲   ⎛ n      2⎞\n",
       "  ╱   ⎝2  + 6⋅n ⎠\n",
       " ╱               \n",
       " ‾‾‾             \n",
       "n = a            "
      ]
     },
     "execution_count": 6,
     "metadata": {},
     "output_type": "execute_result"
    }
   ],
   "source": [
    "a, b = symbols('a b')\n",
    "Sum(6*n**2 + 2**n, (n, a, b))"
   ]
  },
  {
   "cell_type": "code",
   "execution_count": 7,
   "metadata": {},
   "outputs": [
    {
     "data": {
      "text/latex": [
       "$$9 f{\\left (x \\right )} + \\frac{d^{2}}{d x^{2}}  f{\\left (x \\right )} = 1$$"
      ],
      "text/plain": [
       "           2          \n",
       "          d           \n",
       "9⋅f(x) + ───(f(x)) = 1\n",
       "           2          \n",
       "         dx           "
      ]
     },
     "metadata": {},
     "output_type": "display_data"
    },
    {
     "data": {
      "text/latex": [
       "$$f{\\left (x \\right )} = C_{1} \\sin{\\left (3 x \\right )} + C_{2} \\cos{\\left (3 x \\right )} + \\frac{1}{9}$$"
      ],
      "text/plain": [
       "f(x) = C₁⋅sin(3⋅x) + C₂⋅cos(3⋅x) + 1/9"
      ]
     },
     "execution_count": 7,
     "metadata": {},
     "output_type": "execute_result"
    }
   ],
   "source": [
    "eqn = Eq(Derivative(f(x),x,x) + 9*f(x), 1)\n",
    "display(eqn)\n",
    "dsolve(eqn, f(x))"
   ]
  },
  {
   "cell_type": "markdown",
   "metadata": {},
   "source": [
    "## Illustrating a Taylor series"
   ]
  },
  {
   "cell_type": "code",
   "execution_count": 8,
   "metadata": {
    "collapsed": true
   },
   "outputs": [],
   "source": [
    "%matplotlib inline\n",
    "import numpy as np\n",
    "import matplotlib.pyplot as plt"
   ]
  },
  {
   "cell_type": "code",
   "execution_count": 9,
   "metadata": {
    "collapsed": true
   },
   "outputs": [],
   "source": [
    "def plot_taylor_approximations(func, x0=None, orders=(2, 4), xrange=(0,1), yrange=None, npts=200):\n",
    "    \"\"\"Plot the Taylor series approximations to a function at various orders.\n",
    "\n",
    "    Parameters\n",
    "    ----------\n",
    "    func : a sympy function\n",
    "    x0 : float\n",
    "      Origin of the Taylor series expansion.  If not given, x0=xrange[0].\n",
    "    orders : list\n",
    "      List of integers with the orders of Taylor series to show.  Default is (2, 4).\n",
    "    xrange : 2-tuple or array.\n",
    "      Either an (xmin, xmax) tuple indicating the x range for the plot (default is (0, 1)),\n",
    "      or the actual array of values to use.\n",
    "    yrange : 2-tuple\n",
    "      (ymin, ymax) tuple indicating the y range for the plot.  If not given,\n",
    "      the full range of values will be automatically used. \n",
    "    npts : int\n",
    "      Number of points to sample the x range with.  Default is 200.\n",
    "    \"\"\"\n",
    "    if not callable(func):\n",
    "        raise ValueError('func must be callable')\n",
    "    if isinstance(xrange, (list, tuple)):\n",
    "        x = np.linspace(float(xrange[0]), float(xrange[1]), npts)\n",
    "    else:\n",
    "        x = xrange\n",
    "    if x0 is None: x0 = x[0]\n",
    "    xs = sym.Symbol('x')\n",
    "    # Make a numpy-callable form of the original function for plotting\n",
    "    fx = func(xs)\n",
    "    f = sym.lambdify(xs, fx, modules=['numpy'])\n",
    "    # We could use latex(fx) instead of str(), but matploblib gets confused\n",
    "    # with some of the (valid) latex constructs sympy emits.  So we play it safe.\n",
    "    plt.plot(x, f(x), label=str(fx), lw=2)\n",
    "    # Build the Taylor approximations, plotting as we go\n",
    "    apps = {}\n",
    "    for order in orders:\n",
    "        app = fx.series(xs, x0, n=order).removeO()\n",
    "        apps[order] = app\n",
    "        # Must be careful here: if the approximation is a constant, we can't\n",
    "        # blindly use lambdify as it won't do the right thing.  In that case, \n",
    "        # evaluate the number as a float and fill the y array with that value.\n",
    "        if isinstance(app, sym.numbers.Number):\n",
    "            y = np.zeros_like(x)\n",
    "            y.fill(app.evalf())\n",
    "        else:\n",
    "            fa = sym.lambdify(xs, app, modules=['numpy'])\n",
    "            y = fa(x)\n",
    "        tex = sym.latex(app).replace('$', '')\n",
    "        plt.plot(x, y, label=r'$n=%s:\\, %s$' % (order, tex) )\n",
    "        \n",
    "    # Plot refinements\n",
    "    if yrange is not None:\n",
    "        plt.ylim(*yrange)\n",
    "    plt.grid()\n",
    "    plt.legend(loc='best').get_frame().set_alpha(0.8)"
   ]
  },
  {
   "cell_type": "code",
   "execution_count": 10,
   "metadata": {},
   "outputs": [
    {
     "data": {
      "image/png": "[encoded data removed]",
      "text/plain": [
       "<matplotlib.figure.Figure at 0x1101e18d0>"
      ]
     },
     "metadata": {},
     "output_type": "display_data"
    }
   ],
   "source": [
    "plot_taylor_approximations(sin, 0, [2, 4, 6], (0, 2*pi), (-2,2))"
   ]
  },
  {
   "cell_type": "code",
   "execution_count": 11,
   "metadata": {},
   "outputs": [
    {
     "data": {
      "image/png": "[encoded data removed]",
      "text/plain": [
       "<matplotlib.figure.Figure at 0x11364ae80>"
      ]
     },
     "metadata": {},
     "output_type": "display_data"
    }
   ],
   "source": [
    "plot_taylor_approximations(cos, 0, [2, 4, 6], (0, 2*pi), (-2,2))"
   ]
  },
  {
   "cell_type": "code",
   "execution_count": 24,
   "metadata": {},
   "outputs": [],
   "source": [
    "\"\"\"\n",
    "XKCD plot generator\n",
    "-------------------\n",
    "Author: Jake Vanderplas\n",
    "\n",
    "This is a script that will take any matplotlib line diagram, and convert it\n",
    "to an XKCD-style plot.  It will work for plots with line & text elements,\n",
    "including axes labels and titles (but not axes tick labels).\n",
    "\n",
    "The idea for this comes from work by Damon McDougall\n",
    "  http://www.mail-archive.com/matplotlib-users@lists.sourceforge.net/msg25499.html\n",
    "\"\"\"\n",
    "import numpy as np\n",
    "import pylab as pl\n",
    "from scipy import interpolate, signal\n",
    "import matplotlib.font_manager as fm\n",
    "\n",
    "\n",
    "# We need a special font for the code below.  It can be downloaded this way:\n",
    "import os\n",
    "import requests as req\n",
    "if not os.path.exists('Humor-Sans.ttf'):\n",
    "    fhandle = req.get('http://antiyawn.com/uploads/Humor-Sans-1.0.ttf')\n",
    "    open('Humor-Sans.ttf', 'wb').write(fhandle.content)\n",
    "\n",
    "    \n",
    "def xkcd_line(x, y, xlim=None, ylim=None,\n",
    "              mag=1.0, f1=30, f2=0.05, f3=15):\n",
    "    \"\"\"\n",
    "    Mimic a hand-drawn line from (x, y) data\n",
    "\n",
    "    Parameters\n",
    "    ----------\n",
    "    x, y : array_like\n",
    "        arrays to be modified\n",
    "    xlim, ylim : data range\n",
    "        the assumed plot range for the modification.  If not specified,\n",
    "        they will be guessed from the  data\n",
    "    mag : float\n",
    "        magnitude of distortions\n",
    "    f1, f2, f3 : int, float, int\n",
    "        filtering parameters.  f1 gives the size of the window, f2 gives\n",
    "        the high-frequency cutoff, f3 gives the size of the filter\n",
    "    \n",
    "    Returns\n",
    "    -------\n",
    "    x, y : ndarrays\n",
    "        The modified lines\n",
    "    \"\"\"\n",
    "    x = np.asarray(x)\n",
    "    y = np.asarray(y)\n",
    "    \n",
    "    # get limits for rescaling\n",
    "    if xlim is None:\n",
    "        xlim = (x.min(), x.max())\n",
    "    if ylim is None:\n",
    "        ylim = (y.min(), y.max())\n",
    "\n",
    "    if xlim[1] == xlim[0]:\n",
    "        xlim = ylim\n",
    "        \n",
    "    if ylim[1] == ylim[0]:\n",
    "        ylim = xlim\n",
    "\n",
    "    # scale the data\n",
    "    x_scaled = (x - xlim[0]) * 1. / (xlim[1] - xlim[0])\n",
    "    y_scaled = (y - ylim[0]) * 1. / (ylim[1] - ylim[0])\n",
    "\n",
    "    # compute the total distance along the path\n",
    "    dx = x_scaled[1:] - x_scaled[:-1]\n",
    "    dy = y_scaled[1:] - y_scaled[:-1]\n",
    "    dist_tot = np.sum(np.sqrt(dx * dx + dy * dy))\n",
    "\n",
    "    # number of interpolated points is proportional to the distance\n",
    "    Nu = int(200 * dist_tot)\n",
    "    u = np.arange(-1, Nu + 1) * 1. / (Nu - 1)\n",
    "\n",
    "    # interpolate curve at sampled points\n",
    "    k = min(3, len(x) - 1)\n",
    "    res = interpolate.splprep([x_scaled, y_scaled], s=0, k=k)\n",
    "    x_int, y_int = interpolate.splev(u, res[0]) \n",
    "\n",
    "    # we'll perturb perpendicular to the drawn line\n",
    "    dx = x_int[2:] - x_int[:-2]\n",
    "    dy = y_int[2:] - y_int[:-2]\n",
    "    dist = np.sqrt(dx * dx + dy * dy)\n",
    "\n",
    "    # create a filtered perturbation\n",
    "    coeffs = mag * np.random.normal(0, 0.01, len(x_int) - 2)\n",
    "    b = signal.firwin(f1, f2 * dist_tot, window=('kaiser', f3))\n",
    "    response = signal.lfilter(b, 1, coeffs)\n",
    "\n",
    "    x_int[1:-1] += response * dy / dist\n",
    "    y_int[1:-1] += response * dx / dist\n",
    "\n",
    "    # un-scale data\n",
    "    x_int = x_int[1:-1] * (xlim[1] - xlim[0]) + xlim[0]\n",
    "    y_int = y_int[1:-1] * (ylim[1] - ylim[0]) + ylim[0]\n",
    "    \n",
    "    return x_int, y_int\n",
    "\n",
    "\n",
    "def XKCDify(ax, mag=1.0,\n",
    "            f1=50, f2=0.01, f3=15,\n",
    "            bgcolor='w',\n",
    "            xaxis_loc=None,\n",
    "            yaxis_loc=None,\n",
    "            xaxis_arrow='+',\n",
    "            yaxis_arrow='+',\n",
    "            ax_extend=0.1,\n",
    "            expand_axes=False):\n",
    "    \"\"\"Make axis look hand-drawn\n",
    "\n",
    "    This adjusts all lines, text, legends, and axes in the figure to look\n",
    "    like xkcd plots.  Other plot elements are not modified.\n",
    "    \n",
    "    Parameters\n",
    "    ----------\n",
    "    ax : Axes instance\n",
    "        the axes to be modified.\n",
    "    mag : float\n",
    "        the magnitude of the distortion\n",
    "    f1, f2, f3 : int, float, int\n",
    "        filtering parameters.  f1 gives the size of the window, f2 gives\n",
    "        the high-frequency cutoff, f3 gives the size of the filter\n",
    "    xaxis_loc, yaxis_log : float\n",
    "        The locations to draw the x and y axes.  If not specified, they\n",
    "        will be drawn from the bottom left of the plot\n",
    "    xaxis_arrow, yaxis_arrow : str\n",
    "        where to draw arrows on the x/y axes.  Options are '+', '-', '+-', or ''\n",
    "    ax_extend : float\n",
    "        How far (fractionally) to extend the drawn axes beyond the original\n",
    "        axes limits\n",
    "    expand_axes : bool\n",
    "        if True, then expand axes to fill the figure (useful if there is only\n",
    "        a single axes in the figure)\n",
    "    \"\"\"\n",
    "    # Get axes aspect\n",
    "    ext = ax.get_window_extent().extents\n",
    "    aspect = (ext[3] - ext[1]) / (ext[2] - ext[0])\n",
    "\n",
    "    xlim = ax.get_xlim()\n",
    "    ylim = ax.get_ylim()\n",
    "\n",
    "    xspan = xlim[1] - xlim[0]\n",
    "    yspan = ylim[1] - xlim[0]\n",
    "\n",
    "    xax_lim = (xlim[0] - ax_extend * xspan,\n",
    "               xlim[1] + ax_extend * xspan)\n",
    "    yax_lim = (ylim[0] - ax_extend * yspan,\n",
    "               ylim[1] + ax_extend * yspan)\n",
    "\n",
    "    if xaxis_loc is None:\n",
    "        xaxis_loc = ylim[0]\n",
    "\n",
    "    if yaxis_loc is None:\n",
    "        yaxis_loc = xlim[0]\n",
    "\n",
    "    # Draw axes\n",
    "    xaxis = pl.Line2D([xax_lim[0], xax_lim[1]], [xaxis_loc, xaxis_loc],\n",
    "                      linestyle='-', color='k')\n",
    "    yaxis = pl.Line2D([yaxis_loc, yaxis_loc], [yax_lim[0], yax_lim[1]],\n",
    "                      linestyle='-', color='k')\n",
    "\n",
    "    # Label axes3, 0.5, 'hello', fontsize=14)\n",
    "    ax.text(xax_lim[1], xaxis_loc - 0.02 * yspan, ax.get_xlabel(),\n",
    "            fontsize=14, ha='right', va='top', rotation=12)\n",
    "    ax.text(yaxis_loc - 0.02 * xspan, yax_lim[1], ax.get_ylabel(),\n",
    "            fontsize=14, ha='right', va='top', rotation=78)\n",
    "    ax.set_xlabel('')\n",
    "    ax.set_ylabel('')\n",
    "\n",
    "    # Add title\n",
    "    ax.text(0.5 * (xax_lim[1] + xax_lim[0]), yax_lim[1],\n",
    "            ax.get_title(),\n",
    "            ha='center', va='bottom', fontsize=16)\n",
    "    ax.set_title('')\n",
    "\n",
    "    Nlines = len(ax.lines)\n",
    "    lines = [xaxis, yaxis] + [ax.lines.pop(0) for i in range(Nlines)]\n",
    "\n",
    "    for line in lines:\n",
    "        x, y = line.get_data()\n",
    "\n",
    "        x_int, y_int = xkcd_line(x, y, xlim, ylim,\n",
    "                                 mag, f1, f2, f3)\n",
    "\n",
    "        # create foreground and background line\n",
    "        lw = line.get_linewidth()\n",
    "        line.set_linewidth(2 * lw)\n",
    "        line.set_data(x_int, y_int)\n",
    "\n",
    "        # don't add background line for axes\n",
    "        if (line is not xaxis) and (line is not yaxis):\n",
    "            line_bg = pl.Line2D(x_int, y_int, color=bgcolor,\n",
    "                                linewidth=8 * lw)\n",
    "\n",
    "            ax.add_line(line_bg)\n",
    "        ax.add_line(line)\n",
    "\n",
    "    # Draw arrow-heads at the end of axes lines\n",
    "    arr1 = 0.03 * np.array([-1, 0, -1])\n",
    "    arr2 = 0.02 * np.array([-1, 0, 1])\n",
    "\n",
    "    arr1[::2] += np.random.normal(0, 0.005, 2)\n",
    "    arr2[::2] += np.random.normal(0, 0.005, 2)\n",
    "\n",
    "    x, y = xaxis.get_data()\n",
    "    if '+' in str(xaxis_arrow):\n",
    "        ax.plot(x[-1] + arr1 * xspan * aspect,\n",
    "                y[-1] + arr2 * yspan,\n",
    "                color='k', lw=2)\n",
    "    if '-' in str(xaxis_arrow):\n",
    "        ax.plot(x[0] - arr1 * xspan * aspect,\n",
    "                y[0] - arr2 * yspan,\n",
    "                color='k', lw=2)\n",
    "\n",
    "    x, y = yaxis.get_data()\n",
    "    if '+' in str(yaxis_arrow):\n",
    "        ax.plot(x[-1] + arr2 * xspan * aspect,\n",
    "                y[-1] + arr1 * yspan,\n",
    "                color='k', lw=2)\n",
    "    if '-' in str(yaxis_arrow):\n",
    "        ax.plot(x[0] - arr2 * xspan * aspect,\n",
    "                y[0] - arr1 * yspan,\n",
    "                color='k', lw=2)\n",
    "\n",
    "    # Change all the fonts to humor-sans.\n",
    "    prop = fm.FontProperties(fname='Humor-Sans.ttf', size=16)\n",
    "    for text in ax.texts:\n",
    "        text.set_fontproperties(prop)\n",
    "    \n",
    "    # modify legend\n",
    "    leg = ax.get_legend()\n",
    "    if leg is not None:\n",
    "        leg.set_frame_on(False)\n",
    "        \n",
    "        for child in leg.get_children():\n",
    "            if isinstance(child, pl.Line2D):\n",
    "                x, y = child.get_data()\n",
    "                child.set_data(xkcd_line(x, y, mag=10, f1=100, f2=0.001))\n",
    "                child.set_linewidth(2 * child.get_linewidth())\n",
    "            if isinstance(child, pl.Text):\n",
    "                child.set_fontproperties(prop)\n",
    "    \n",
    "    # Set the axis limits\n",
    "    ax.set_xlim(xax_lim[0] - 0.1 * xspan,\n",
    "                xax_lim[1] + 0.1 * xspan)\n",
    "    ax.set_ylim(yax_lim[0] - 0.1 * yspan,\n",
    "                yax_lim[1] + 0.1 * yspan)\n",
    "\n",
    "    # adjust the axes\n",
    "    ax.set_xticks([])\n",
    "    ax.set_yticks([])      \n",
    "\n",
    "    if expand_axes:\n",
    "        ax.figure.set_facecolor(bgcolor)\n",
    "        ax.set_axis_off()\n",
    "        ax.set_position([0, 0, 1, 1])\n",
    "    \n",
    "    return ax"
   ]
  },
  {
   "cell_type": "code",
   "execution_count": 25,
   "metadata": {},
   "outputs": [
    {
     "name": "stdout",
     "output_type": "stream",
     "text": [
      "Populating the interactive namespace from numpy and matplotlib\n"
     ]
    }
   ],
   "source": [
    "%pylab inline"
   ]
  },
  {
   "cell_type": "code",
   "execution_count": 28,
   "metadata": {
    "scrolled": true
   },
   "outputs": [
    {
     "data": {
      "text/plain": [
       "<matplotlib.axes._subplots.AxesSubplot at 0x116b0afd0>"
      ]
     },
     "execution_count": 28,
     "metadata": {},
     "output_type": "execute_result"
    },
    {
     "data": {
      "image/png": "[encoded data removed]",
      "text/plain": [
       "<matplotlib.figure.Figure at 0x116a756d8>"
      ]
     },
     "metadata": {},
     "output_type": "display_data"
    }
   ],
   "source": [
    "np.random.seed(0)\n",
    "\n",
    "ax = pylab.axes()\n",
    "\n",
    "x = np.linspace(0, 10, 100)\n",
    "ax.plot(x, np.sin(x) * np.exp(-0.1 * (x - 5) ** 2), 'b', lw=1, label='damped sine')\n",
    "ax.plot(x, -np.cos(x) * np.exp(-0.1 * (x - 5) ** 2), 'r', lw=1, label='damped cosine')\n",
    "\n",
    "ax.set_title('check it out!')\n",
    "ax.set_xlabel('x label')\n",
    "ax.set_ylabel('y label')\n",
    "\n",
    "ax.legend(loc='lower right')\n",
    "\n",
    "ax.set_xlim(0, 10)\n",
    "ax.set_ylim(-1.0, 1.0)\n",
    "\n",
    "#XKCDify the axes -- this operates in-place\n",
    "XKCDify(ax, xaxis_loc=0.0, yaxis_loc=1.0,\n",
    "        xaxis_arrow='+-', yaxis_arrow='+-',\n",
    "        expand_axes=True)\n",
    "\n"
   ]
  },
  {
   "cell_type": "code",
   "execution_count": null,
   "metadata": {
    "collapsed": true
   },
   "outputs": [],
   "source": []
  }
 ],
 "metadata": {
  "kernelspec": {
   "display_name": "Python 3",
   "language": "python",
   "name": "python3"
  },
  "language_info": {
   "codemirror_mode": {
    "name": "ipython",
    "version": 3
   },
   "file_extension": ".py",
   "mimetype": "text/x-python",
   "name": "python",
   "nbconvert_exporter": "python",
   "pygments_lexer": "ipython3",
   "version": "3.6.2"
  }
 },
 "nbformat": 4,
 "nbformat_minor": 2
}
